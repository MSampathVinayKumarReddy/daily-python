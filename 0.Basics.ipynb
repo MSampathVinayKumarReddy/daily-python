{
 "cells": [
  {
   "cell_type": "markdown",
   "id": "23230e7d",
   "metadata": {},
   "source": [
    "###### iterating from last to first"
   ]
  },
  {
   "cell_type": "code",
   "execution_count": 3,
   "id": "273e3175",
   "metadata": {},
   "outputs": [],
   "source": [
    "l = [100, 110, 120, 23, 44, 565, 123, 474]"
   ]
  },
  {
   "cell_type": "code",
   "execution_count": 4,
   "id": "4a12c902",
   "metadata": {},
   "outputs": [
    {
     "name": "stdout",
     "output_type": "stream",
     "text": [
      "474\n",
      "123\n",
      "565\n",
      "44\n",
      "23\n",
      "120\n",
      "110\n",
      "100\n"
     ]
    }
   ],
   "source": [
    "for i in range(len(l) - 1, -1, -1):\n",
    "    print(l[i])"
   ]
  },
  {
   "cell_type": "code",
   "execution_count": 1,
   "id": "b352e355",
   "metadata": {},
   "outputs": [
    {
     "name": "stdout",
     "output_type": "stream",
     "text": [
      "testing-changes\n"
     ]
    }
   ],
   "source": [
    "print(\"testing-changes\")"
   ]
  },
  {
   "cell_type": "code",
   "execution_count": 5,
   "id": "deb9d146",
   "metadata": {},
   "outputs": [
    {
     "name": "stdout",
     "output_type": "stream",
     "text": [
      "-10\n",
      "-9\n",
      "-8\n",
      "-7\n",
      "-6\n",
      "-5\n",
      "-4\n",
      "-3\n",
      "-2\n",
      "-1\n",
      "0\n"
     ]
    }
   ],
   "source": [
    "for i in range(-10, 1, 1):\n",
    "    print(i)"
   ]
  },
  {
   "cell_type": "code",
   "execution_count": null,
   "id": "343c63ae",
   "metadata": {},
   "outputs": [],
   "source": []
  },
  {
   "cell_type": "code",
   "execution_count": 4,
   "id": "3e765a63",
   "metadata": {},
   "outputs": [
    {
     "name": "stdout",
     "output_type": "stream",
     "text": [
      "sam   reddy   is   a   goat\n"
     ]
    }
   ],
   "source": [
    "print(\"sam\", \"reddy\", \"is\", \"a\", \"goat\", sep = \"   \")"
   ]
  },
  {
   "cell_type": "code",
   "execution_count": null,
   "id": "d1c2932d",
   "metadata": {},
   "outputs": [],
   "source": []
  },
  {
   "cell_type": "code",
   "execution_count": 5,
   "id": "a03bd560",
   "metadata": {},
   "outputs": [
    {
     "name": "stdout",
     "output_type": "stream",
     "text": [
      "hi ra ...sampathReddy\n",
      "hi ra ....sampathReddy\n"
     ]
    }
   ],
   "source": [
    "a = \"sampathReddy\"\n",
    "\n",
    "print(f\"hi ra ...{a}\")\n",
    "\n",
    "print(\"hi ra ....{}\".format(a))"
   ]
  },
  {
   "cell_type": "code",
   "execution_count": null,
   "id": "4f3de813",
   "metadata": {},
   "outputs": [],
   "source": []
  },
  {
   "cell_type": "code",
   "execution_count": 8,
   "id": "dd471304",
   "metadata": {},
   "outputs": [],
   "source": [
    "def func(*args):\n",
    "    for i in args:\n",
    "        print(i)"
   ]
  },
  {
   "cell_type": "code",
   "execution_count": 9,
   "id": "22345d57",
   "metadata": {},
   "outputs": [
    {
     "name": "stdout",
     "output_type": "stream",
     "text": [
      "12\n",
      "23\n",
      "34345\n",
      "45\n",
      "sdaf\n"
     ]
    }
   ],
   "source": [
    "func(12,23,34345,45,\"sdaf\")"
   ]
  },
  {
   "cell_type": "code",
   "execution_count": null,
   "id": "0844852f",
   "metadata": {},
   "outputs": [],
   "source": []
  },
  {
   "cell_type": "markdown",
   "id": "8de87bb0",
   "metadata": {},
   "source": [
    "###### dict and set"
   ]
  },
  {
   "cell_type": "code",
   "execution_count": 10,
   "id": "afc6b53d",
   "metadata": {},
   "outputs": [],
   "source": [
    "keys = ['Ten', 'Twenty', 'Thirty']\n",
    "values = [10, 20, 30]"
   ]
  },
  {
   "cell_type": "code",
   "execution_count": 16,
   "id": "286e034c",
   "metadata": {},
   "outputs": [
    {
     "name": "stdout",
     "output_type": "stream",
     "text": [
      "{'Ten': 10, 'Twenty': 20, 'Thirty': 30}\n"
     ]
    }
   ],
   "source": [
    "dictionary = dict(zip(keys, values))\n",
    "\n",
    "print(dictionary)"
   ]
  },
  {
   "cell_type": "code",
   "execution_count": null,
   "id": "5c40a66e",
   "metadata": {},
   "outputs": [],
   "source": []
  },
  {
   "cell_type": "code",
   "execution_count": 17,
   "id": "30e2d48d",
   "metadata": {},
   "outputs": [],
   "source": [
    "employees = ['Kelly', 'Emma']\n",
    "defaults = {\"designation\": 'Developer', \"salary\": 8000}"
   ]
  },
  {
   "cell_type": "code",
   "execution_count": 19,
   "id": "10008967",
   "metadata": {},
   "outputs": [
    {
     "data": {
      "text/plain": [
       "{'Kelly': {'designation': 'Developer', 'salary': 8000},\n",
       " 'Emma': {'designation': 'Developer', 'salary': 8000}}"
      ]
     },
     "execution_count": 19,
     "metadata": {},
     "output_type": "execute_result"
    }
   ],
   "source": [
    "dictionary2 = dict.fromkeys(employees, defaults)\n",
    "\n",
    "dictionary2"
   ]
  },
  {
   "cell_type": "code",
   "execution_count": null,
   "id": "c5ab40be",
   "metadata": {},
   "outputs": [],
   "source": []
  },
  {
   "cell_type": "code",
   "execution_count": 20,
   "id": "55988b86",
   "metadata": {},
   "outputs": [],
   "source": [
    "sample_set = {\"Yellow\", \"Orange\", \"Black\"}\n",
    "sample_list = [\"Blue\", \"Green\", \"Red\"]"
   ]
  },
  {
   "cell_type": "code",
   "execution_count": 27,
   "id": "4e284c4d",
   "metadata": {},
   "outputs": [
    {
     "data": {
      "text/plain": [
       "{'Black', 'Blue', 'Green', 'Orange', 'Red', 'Yellow'}"
      ]
     },
     "execution_count": 27,
     "metadata": {},
     "output_type": "execute_result"
    }
   ],
   "source": [
    "sample_set.update(sample_list)\n",
    "    \n",
    "    \n",
    "sample_set"
   ]
  },
  {
   "cell_type": "code",
   "execution_count": null,
   "id": "51d7dcc6",
   "metadata": {},
   "outputs": [],
   "source": []
  },
  {
   "cell_type": "markdown",
   "id": "6707f59c",
   "metadata": {},
   "source": [
    "###### print 3 random numbers divisible by 5 between a given range"
   ]
  },
  {
   "cell_type": "code",
   "execution_count": 35,
   "id": "980b8ab6",
   "metadata": {},
   "outputs": [
    {
     "name": "stdout",
     "output_type": "stream",
     "text": [
      "565  485  420  "
     ]
    }
   ],
   "source": [
    "import random\n",
    "\n",
    "for i in range(3):\n",
    "    print(random.randrange(100, 999, 5), end=\"  \")"
   ]
  },
  {
   "cell_type": "code",
   "execution_count": null,
   "id": "aff83c7b",
   "metadata": {},
   "outputs": [],
   "source": []
  },
  {
   "cell_type": "markdown",
   "id": "6759bcb1",
   "metadata": {},
   "source": [
    "###### lottery tickets"
   ]
  },
  {
   "cell_type": "code",
   "execution_count": 39,
   "id": "f611cbf0",
   "metadata": {},
   "outputs": [],
   "source": [
    "all_tickets = []\n",
    "for i in range(100):\n",
    "    all_tickets.append(random.randint(1, 100000))"
   ]
  },
  {
   "cell_type": "code",
   "execution_count": 40,
   "id": "301fd630",
   "metadata": {},
   "outputs": [
    {
     "name": "stdout",
     "output_type": "stream",
     "text": [
      "[58255, 88088, 42123, 50127, 68151]\n"
     ]
    }
   ],
   "source": [
    "winners = random.sample(all_tickets,  5)\n",
    "print(winners)"
   ]
  },
  {
   "cell_type": "code",
   "execution_count": null,
   "id": "32ca5fad",
   "metadata": {},
   "outputs": [],
   "source": []
  },
  {
   "cell_type": "code",
   "execution_count": 9,
   "id": "5c9e7319",
   "metadata": {},
   "outputs": [],
   "source": [
    "def currPrev(num):\n",
    "    prev = 0\n",
    "    sol = 0\n",
    "    for i in range(1, num + 1):\n",
    "        sol = prev + i\n",
    "        print(f\"the sum of previous num {prev} and current num {i} is {sol}\")\n",
    "        prev = prev + 1"
   ]
  },
  {
   "cell_type": "code",
   "execution_count": 10,
   "id": "e790429d",
   "metadata": {},
   "outputs": [
    {
     "name": "stdout",
     "output_type": "stream",
     "text": [
      "the sum of previous num 0 and current num 1 is 1\n",
      "the sum of previous num 1 and current num 2 is 3\n",
      "the sum of previous num 2 and current num 3 is 5\n",
      "the sum of previous num 3 and current num 4 is 7\n",
      "the sum of previous num 4 and current num 5 is 9\n",
      "the sum of previous num 5 and current num 6 is 11\n",
      "the sum of previous num 6 and current num 7 is 13\n",
      "the sum of previous num 7 and current num 8 is 15\n",
      "the sum of previous num 8 and current num 9 is 17\n",
      "the sum of previous num 9 and current num 10 is 19\n"
     ]
    }
   ],
   "source": [
    "currPrev(10)"
   ]
  },
  {
   "cell_type": "code",
   "execution_count": null,
   "id": "a861595a",
   "metadata": {},
   "outputs": [],
   "source": []
  },
  {
   "cell_type": "markdown",
   "id": "82d22f08",
   "metadata": {},
   "source": [
    "###### tax calculator"
   ]
  },
  {
   "cell_type": "code",
   "execution_count": 11,
   "id": "6827800f",
   "metadata": {},
   "outputs": [],
   "source": [
    "def taxCalculator(income):\n",
    "    tax_payable = 0\n",
    "    \n",
    "    if income <= 10000:\n",
    "        tax_payable = 0\n",
    "        \n",
    "    elif income <= 20000:\n",
    "        x = income - 10000\n",
    "        tax_payable = x * 10/100\n",
    "        \n",
    "    else:\n",
    "        tax_payable = 0 \n",
    "        tax_payable = 10000 * 10 / 100\n",
    "        tax_payable = tax_payable + (income - 20000) * 20/100\n",
    "        \n",
    "    return tax_payable"
   ]
  },
  {
   "cell_type": "code",
   "execution_count": 12,
   "id": "97a34ca2",
   "metadata": {},
   "outputs": [
    {
     "data": {
      "text/plain": [
       "87000.0"
      ]
     },
     "execution_count": 12,
     "metadata": {},
     "output_type": "execute_result"
    }
   ],
   "source": [
    "taxCalculator(450000)"
   ]
  },
  {
   "cell_type": "code",
   "execution_count": 13,
   "id": "f090fce4",
   "metadata": {},
   "outputs": [
    {
     "data": {
      "text/plain": [
       "197000.0"
      ]
     },
     "execution_count": 13,
     "metadata": {},
     "output_type": "execute_result"
    }
   ],
   "source": [
    "taxCalculator(1000000)"
   ]
  },
  {
   "cell_type": "code",
   "execution_count": null,
   "id": "f4b8c36f",
   "metadata": {},
   "outputs": [],
   "source": []
  },
  {
   "cell_type": "code",
   "execution_count": 2,
   "id": "a2087059",
   "metadata": {},
   "outputs": [
    {
     "name": "stdout",
     "output_type": "stream",
     "text": [
      "sampath is great as great as sampath\n",
      "{'sampath': 2, 'is': 1, 'great': 2, 'as': 2}\n"
     ]
    }
   ],
   "source": [
    "input_string = input()\n",
    "\n",
    "list_ = input_string.split(\" \")\n",
    "dict_ = {}\n",
    "\n",
    "for i in list_:\n",
    "    if i not in dict_.keys():\n",
    "        dict_[i] = 1\n",
    "    else:\n",
    "        dict_[i] += 1\n",
    "        \n",
    "print(dict_)"
   ]
  },
  {
   "cell_type": "code",
   "execution_count": null,
   "id": "1925252a",
   "metadata": {},
   "outputs": [],
   "source": []
  },
  {
   "cell_type": "code",
   "execution_count": 3,
   "id": "7db7d3f3",
   "metadata": {},
   "outputs": [],
   "source": [
    "calories = {'apple' : 52, 'banana' : 89, 'choco' : 546}"
   ]
  },
  {
   "cell_type": "code",
   "execution_count": 6,
   "id": "63256c96",
   "metadata": {},
   "outputs": [],
   "source": [
    "calories['cappu'] = 74"
   ]
  },
  {
   "cell_type": "code",
   "execution_count": 7,
   "id": "cb4b9ce2",
   "metadata": {},
   "outputs": [
    {
     "data": {
      "text/plain": [
       "{'apple': 52, 'banana': 89, 'choco': 546, 'cappu': 74}"
      ]
     },
     "execution_count": 7,
     "metadata": {},
     "output_type": "execute_result"
    }
   ],
   "source": [
    "calories"
   ]
  },
  {
   "cell_type": "code",
   "execution_count": 10,
   "id": "15892689",
   "metadata": {},
   "outputs": [
    {
     "name": "stdout",
     "output_type": "stream",
     "text": [
      "banana\n",
      "choco\n"
     ]
    }
   ],
   "source": [
    "for k, v in calories.items():\n",
    "    print(k) if v > 75 else None"
   ]
  },
  {
   "cell_type": "code",
   "execution_count": null,
   "id": "e0ee4203",
   "metadata": {},
   "outputs": [],
   "source": []
  },
  {
   "cell_type": "code",
   "execution_count": 11,
   "id": "8f61b964",
   "metadata": {},
   "outputs": [
    {
     "data": {
      "text/plain": [
       "['HiSam', 'HiRed', 'HiMaj']"
      ]
     },
     "execution_count": 11,
     "metadata": {},
     "output_type": "execute_result"
    }
   ],
   "source": [
    "h = [('Hi' + x) for x in ['Sam', 'Red', 'Maj']]\n",
    "\n",
    "h"
   ]
  },
  {
   "cell_type": "code",
   "execution_count": null,
   "id": "3b18d9e3",
   "metadata": {},
   "outputs": [],
   "source": []
  },
  {
   "cell_type": "code",
   "execution_count": 16,
   "id": "db9f4bb3",
   "metadata": {},
   "outputs": [],
   "source": [
    "n = list(map(lambda x: x[0], ['red','green', 'blue']))"
   ]
  },
  {
   "cell_type": "code",
   "execution_count": 18,
   "id": "5f40d5b9",
   "metadata": {},
   "outputs": [
    {
     "data": {
      "text/plain": [
       "['r', 'g', 'b']"
      ]
     },
     "execution_count": 18,
     "metadata": {},
     "output_type": "execute_result"
    }
   ],
   "source": [
    "n"
   ]
  },
  {
   "cell_type": "code",
   "execution_count": null,
   "id": "c3e969f0",
   "metadata": {},
   "outputs": [],
   "source": []
  }
 ],
 "metadata": {
  "kernelspec": {
   "display_name": "Python 3 (ipykernel)",
   "language": "python",
   "name": "python3"
  },
  "language_info": {
   "codemirror_mode": {
    "name": "ipython",
    "version": 3
   },
   "file_extension": ".py",
   "mimetype": "text/x-python",
   "name": "python",
   "nbconvert_exporter": "python",
   "pygments_lexer": "ipython3",
   "version": "3.11.5"
  }
 },
 "nbformat": 4,
 "nbformat_minor": 5
}
