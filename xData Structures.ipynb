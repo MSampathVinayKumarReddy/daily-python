{
 "cells": [
  {
   "cell_type": "markdown",
   "id": "df8224c0",
   "metadata": {},
   "source": [
    "### 1. Stack (LIFO)"
   ]
  },
  {
   "cell_type": "code",
   "execution_count": 1,
   "id": "205e5f17",
   "metadata": {},
   "outputs": [],
   "source": [
    "class Browser:\n",
    "    def __init__(self):\n",
    "        self.links = []\n",
    "    def is_empty(self):\n",
    "        return self.links == []\n",
    "    def push(self, link):\n",
    "        self.links.insert(0, link)\n",
    "    def pop(self):\n",
    "        return self.links.pop(0)\n",
    "    def print_stack(self):\n",
    "        print(self.links)"
   ]
  },
  {
   "cell_type": "code",
   "execution_count": 2,
   "id": "b4bde4ec",
   "metadata": {},
   "outputs": [],
   "source": [
    "x = Browser()"
   ]
  },
  {
   "cell_type": "code",
   "execution_count": 3,
   "id": "eadbc7be",
   "metadata": {},
   "outputs": [],
   "source": [
    "x.push('saammm')"
   ]
  },
  {
   "cell_type": "code",
   "execution_count": 4,
   "id": "b6ce04c8",
   "metadata": {},
   "outputs": [
    {
     "name": "stdout",
     "output_type": "stream",
     "text": [
      "['saammm']\n"
     ]
    }
   ],
   "source": [
    "x.print_stack()"
   ]
  },
  {
   "cell_type": "code",
   "execution_count": 5,
   "id": "b5765eb7",
   "metadata": {},
   "outputs": [],
   "source": [
    "x.push('reddd')"
   ]
  },
  {
   "cell_type": "code",
   "execution_count": 6,
   "id": "295ff8ea",
   "metadata": {},
   "outputs": [
    {
     "name": "stdout",
     "output_type": "stream",
     "text": [
      "['reddd', 'saammm']\n"
     ]
    }
   ],
   "source": [
    "x.print_stack()"
   ]
  },
  {
   "cell_type": "code",
   "execution_count": 7,
   "id": "f06d6a0a",
   "metadata": {},
   "outputs": [],
   "source": [
    "x.push('majj')"
   ]
  },
  {
   "cell_type": "code",
   "execution_count": 8,
   "id": "2f8b7db9",
   "metadata": {},
   "outputs": [
    {
     "name": "stdout",
     "output_type": "stream",
     "text": [
      "['majj', 'reddd', 'saammm']\n"
     ]
    }
   ],
   "source": [
    "x.print_stack()"
   ]
  },
  {
   "cell_type": "code",
   "execution_count": 9,
   "id": "2f0d419f",
   "metadata": {},
   "outputs": [
    {
     "data": {
      "text/plain": [
       "'majj'"
      ]
     },
     "execution_count": 9,
     "metadata": {},
     "output_type": "execute_result"
    }
   ],
   "source": [
    "x.pop()"
   ]
  },
  {
   "cell_type": "code",
   "execution_count": 10,
   "id": "0336884a",
   "metadata": {},
   "outputs": [
    {
     "name": "stdout",
     "output_type": "stream",
     "text": [
      "['reddd', 'saammm']\n"
     ]
    }
   ],
   "source": [
    "x.print_stack()"
   ]
  },
  {
   "cell_type": "code",
   "execution_count": 11,
   "id": "75ce3eeb",
   "metadata": {},
   "outputs": [
    {
     "data": {
      "text/plain": [
       "False"
      ]
     },
     "execution_count": 11,
     "metadata": {},
     "output_type": "execute_result"
    }
   ],
   "source": [
    "x.is_empty()"
   ]
  },
  {
   "cell_type": "code",
   "execution_count": null,
   "id": "550bcb77",
   "metadata": {},
   "outputs": [],
   "source": []
  },
  {
   "cell_type": "markdown",
   "id": "36932f20",
   "metadata": {},
   "source": [
    "### 2. Queue (FIFO)"
   ]
  },
  {
   "cell_type": "code",
   "execution_count": 2,
   "id": "42a2f255",
   "metadata": {},
   "outputs": [],
   "source": [
    "class Browser1:\n",
    "    def __init__(self):\n",
    "        self.links = []\n",
    "    def is_empty(self):\n",
    "        return self.links == []\n",
    "    def push(self, link):\n",
    "        self.links.insert(0, link)\n",
    "    def pop(self):\n",
    "        return self.links.pop()\n",
    "    def print_queue(self):\n",
    "        print(self.links)"
   ]
  },
  {
   "cell_type": "code",
   "execution_count": 3,
   "id": "00d47054",
   "metadata": {},
   "outputs": [],
   "source": [
    "y = Browser1()"
   ]
  },
  {
   "cell_type": "code",
   "execution_count": 4,
   "id": "3e9be0fb",
   "metadata": {},
   "outputs": [],
   "source": [
    "y.push('saammm')"
   ]
  },
  {
   "cell_type": "code",
   "execution_count": 5,
   "id": "b169ec70",
   "metadata": {},
   "outputs": [
    {
     "name": "stdout",
     "output_type": "stream",
     "text": [
      "['saammm']\n"
     ]
    }
   ],
   "source": [
    "y.print_queue()"
   ]
  },
  {
   "cell_type": "code",
   "execution_count": 6,
   "id": "ccc84405",
   "metadata": {},
   "outputs": [],
   "source": [
    "y.push('reddd')"
   ]
  },
  {
   "cell_type": "code",
   "execution_count": 7,
   "id": "392424b7",
   "metadata": {},
   "outputs": [
    {
     "name": "stdout",
     "output_type": "stream",
     "text": [
      "['reddd', 'saammm']\n"
     ]
    }
   ],
   "source": [
    "y.print_queue()"
   ]
  },
  {
   "cell_type": "code",
   "execution_count": 8,
   "id": "e66a6f23",
   "metadata": {},
   "outputs": [],
   "source": [
    "y.push('majj')"
   ]
  },
  {
   "cell_type": "code",
   "execution_count": 9,
   "id": "fc329018",
   "metadata": {},
   "outputs": [
    {
     "name": "stdout",
     "output_type": "stream",
     "text": [
      "['majj', 'reddd', 'saammm']\n"
     ]
    }
   ],
   "source": [
    "y.print_queue()"
   ]
  },
  {
   "cell_type": "code",
   "execution_count": 10,
   "id": "9ec88617",
   "metadata": {},
   "outputs": [
    {
     "data": {
      "text/plain": [
       "'saammm'"
      ]
     },
     "execution_count": 10,
     "metadata": {},
     "output_type": "execute_result"
    }
   ],
   "source": [
    "y.pop()"
   ]
  },
  {
   "cell_type": "code",
   "execution_count": 11,
   "id": "7a996560",
   "metadata": {},
   "outputs": [
    {
     "name": "stdout",
     "output_type": "stream",
     "text": [
      "['majj', 'reddd']\n"
     ]
    }
   ],
   "source": [
    "y.print_queue()"
   ]
  },
  {
   "cell_type": "code",
   "execution_count": null,
   "id": "4fe08465",
   "metadata": {},
   "outputs": [],
   "source": []
  },
  {
   "cell_type": "markdown",
   "id": "922bf1d8",
   "metadata": {},
   "source": [
    "### 3. Linkedlist (Single)"
   ]
  },
  {
   "cell_type": "markdown",
   "id": "c3d94a67",
   "metadata": {},
   "source": [
    "###### https://www.youtube.com/watch?v=dpWNCwLn0D4&list=PLLOxZwkBK52Apt7hZ--6D5q1QY6uQ6vgt&index=3"
   ]
  },
  {
   "cell_type": "code",
   "execution_count": 1,
   "id": "f68ec92d",
   "metadata": {},
   "outputs": [],
   "source": [
    "class Node:\n",
    "    def __init__(self, data):\n",
    "        self.data = data\n",
    "        self.next = None\n",
    "        \n",
    "class LL:\n",
    "    def __init__(self):\n",
    "        self.head = None\n",
    "    \n",
    "    #insertions\n",
    "    def insert_begining(self,data):\n",
    "        new_node = Node(data)\n",
    "        new_node.next = self.head\n",
    "        self.head = new_node\n",
    "        \n",
    "    def insert_ending(self, data):\n",
    "        new_node_end = Node(data)\n",
    "        temp = self.head\n",
    "        while temp.next:\n",
    "            temp = temp.next\n",
    "        temp.next = new_node_end\n",
    "        \n",
    "    def insert_position(self, pos, data):\n",
    "        new_node_pos = Node(data)\n",
    "        temp = self.head\n",
    "        for i in range(pos-1):\n",
    "            temp = temp.next\n",
    "        new_node_pos.data = data\n",
    "        new_node_pos.next = temp.next\n",
    "        temp.next = new_node_pos\n",
    "    \n",
    "    #deletions\n",
    "    def del_begining(self):\n",
    "        temp = self.head\n",
    "        self.head = temp.next\n",
    "        temp.next = None\n",
    "        \n",
    "    def del_ending(self):\n",
    "        prev = self.head\n",
    "        temp = self.head.next\n",
    "        while temp.next is not None:\n",
    "            temp = temp.next\n",
    "            prev = prev.next\n",
    "        prev.next = None    \n",
    "        \n",
    "    def del_position(self, pos):\n",
    "        prev = self.head\n",
    "        temp = self.head.next\n",
    "        for i in range(1, pos-1):\n",
    "            temp = temp.next\n",
    "            prev = prev.next\n",
    "        prev.next = temp.next\n",
    "        temp.next = None\n",
    "            \n",
    "    def display(self):\n",
    "        if self.head is None:\n",
    "            print(\"Linked List is Empty\")\n",
    "        else:\n",
    "            temp = self.head\n",
    "            while temp:\n",
    "                print(temp.data, \"-->\", end = \" \")\n",
    "                temp = temp.next"
   ]
  },
  {
   "cell_type": "code",
   "execution_count": 2,
   "id": "4c718c78",
   "metadata": {},
   "outputs": [],
   "source": [
    "l = LL()\n",
    "n = Node(10)\n",
    "l.head = n\n",
    "\n",
    "n1 = Node(20)\n",
    "n.next = n1\n",
    "n2 = Node(30)\n",
    "n1.next = n2\n",
    "n3 = Node(40)\n",
    "n2.next = n3\n",
    "n4 = Node(50)\n",
    "n3.next = n4"
   ]
  },
  {
   "cell_type": "code",
   "execution_count": 3,
   "id": "b3627ae4",
   "metadata": {},
   "outputs": [
    {
     "name": "stdout",
     "output_type": "stream",
     "text": [
      "10 --> 20 --> 30 --> 40 --> 50 --> "
     ]
    }
   ],
   "source": [
    "l.display()"
   ]
  },
  {
   "cell_type": "code",
   "execution_count": 4,
   "id": "cfc2875e",
   "metadata": {},
   "outputs": [],
   "source": [
    "l.insert_begining(5)"
   ]
  },
  {
   "cell_type": "code",
   "execution_count": 5,
   "id": "95e3bd58",
   "metadata": {},
   "outputs": [
    {
     "name": "stdout",
     "output_type": "stream",
     "text": [
      "5 --> 10 --> 20 --> 30 --> 40 --> 50 --> "
     ]
    }
   ],
   "source": [
    "l.display()"
   ]
  },
  {
   "cell_type": "code",
   "execution_count": 6,
   "id": "d976787b",
   "metadata": {},
   "outputs": [],
   "source": [
    "l.insert_ending(60)"
   ]
  },
  {
   "cell_type": "code",
   "execution_count": 7,
   "id": "48bb2b13",
   "metadata": {},
   "outputs": [
    {
     "name": "stdout",
     "output_type": "stream",
     "text": [
      "5 --> 10 --> 20 --> 30 --> 40 --> 50 --> 60 --> "
     ]
    }
   ],
   "source": [
    "l.display()"
   ]
  },
  {
   "cell_type": "code",
   "execution_count": 8,
   "id": "007e927b",
   "metadata": {},
   "outputs": [],
   "source": [
    "l.insert_position(6,55)"
   ]
  },
  {
   "cell_type": "code",
   "execution_count": 9,
   "id": "816395c6",
   "metadata": {},
   "outputs": [
    {
     "name": "stdout",
     "output_type": "stream",
     "text": [
      "5 --> 10 --> 20 --> 30 --> 40 --> 50 --> 55 --> 60 --> "
     ]
    }
   ],
   "source": [
    "l.display()"
   ]
  },
  {
   "cell_type": "code",
   "execution_count": 10,
   "id": "b3fad4b6",
   "metadata": {},
   "outputs": [],
   "source": [
    "l.del_begining()"
   ]
  },
  {
   "cell_type": "code",
   "execution_count": 11,
   "id": "eb9f8f67",
   "metadata": {},
   "outputs": [
    {
     "name": "stdout",
     "output_type": "stream",
     "text": [
      "10 --> 20 --> 30 --> 40 --> 50 --> 55 --> 60 --> "
     ]
    }
   ],
   "source": [
    "l.display()"
   ]
  },
  {
   "cell_type": "code",
   "execution_count": 12,
   "id": "91aa1f4f",
   "metadata": {},
   "outputs": [],
   "source": [
    "l.del_ending()"
   ]
  },
  {
   "cell_type": "code",
   "execution_count": 13,
   "id": "6fdb8030",
   "metadata": {},
   "outputs": [
    {
     "name": "stdout",
     "output_type": "stream",
     "text": [
      "10 --> 20 --> 30 --> 40 --> 50 --> 55 --> "
     ]
    }
   ],
   "source": [
    "l.display()"
   ]
  },
  {
   "cell_type": "code",
   "execution_count": 14,
   "id": "e46f0254",
   "metadata": {},
   "outputs": [],
   "source": [
    "l.del_position(4)"
   ]
  },
  {
   "cell_type": "code",
   "execution_count": 15,
   "id": "9d896541",
   "metadata": {},
   "outputs": [
    {
     "name": "stdout",
     "output_type": "stream",
     "text": [
      "10 --> 20 --> 30 --> 50 --> 55 --> "
     ]
    }
   ],
   "source": [
    "l.display()"
   ]
  },
  {
   "cell_type": "code",
   "execution_count": null,
   "id": "59ecd89e",
   "metadata": {},
   "outputs": [],
   "source": []
  },
  {
   "cell_type": "markdown",
   "id": "03ffff5b",
   "metadata": {},
   "source": [
    "### 4. Linkedlist (Double)"
   ]
  },
  {
   "cell_type": "code",
   "execution_count": 1,
   "id": "9e16fe4a",
   "metadata": {},
   "outputs": [],
   "source": [
    "class Node:\n",
    "    def __init__(self, data):\n",
    "        self.data = data\n",
    "        self.prev = None\n",
    "        self.next = None\n",
    "\n",
    "class DLL:\n",
    "    def __init__(self):\n",
    "        self.head = None\n",
    "        \n",
    "    #insertions\n",
    "    def insert_begining(self,data):\n",
    "        new_node = Node(data)\n",
    "        temp = self.head\n",
    "        temp.prev = new_node\n",
    "        new_node.next = temp\n",
    "        self.head = new_node\n",
    "    \n",
    "    def insert_ending(self,data):\n",
    "        new_node_end = Node(data)\n",
    "        temp = self.head\n",
    "        while temp.next is not None:\n",
    "            temp = temp.next\n",
    "        temp.next = new_node_end\n",
    "        new_node_end.prev = temp\n",
    "        \n",
    "    def insert_position(self,pos,data):\n",
    "        new_node_pos = Node(data)\n",
    "        temp = self.head\n",
    "        for i in range(1,pos-1):\n",
    "            temp = temp.next\n",
    "        new_node_pos.prev = temp\n",
    "        new_node_pos.next = temp.next\n",
    "        temp.next.prev = new_node_pos\n",
    "        temp.next = new_node_pos\n",
    "        \n",
    "    #deletions\n",
    "    def del_begining(self):\n",
    "        temp = self.head\n",
    "        self.head = temp.next\n",
    "        temp.next = None\n",
    "        self.head.prev = None\n",
    "    \n",
    "    def del_ending(self):\n",
    "        prevvv = self.head\n",
    "        temp = self.head.next\n",
    "        while temp.next is not None:\n",
    "            temp = temp.next\n",
    "            prevvv = prevvv.next\n",
    "        prevvv.next = None\n",
    "        temp.prevvv = None\n",
    "        \n",
    "    def del_pos(self,pos):\n",
    "        temp = self.head.next\n",
    "        prevvv = self.head\n",
    "        for i in range(1, pos-1):\n",
    "            temp = temp.next\n",
    "            prevvv = prevvv.next\n",
    "        prevvv.next = temp.next\n",
    "        temp.next.prevvv = prevvv\n",
    "        temp.next = None\n",
    "        temp.prevvv = None\n",
    "        \n",
    "        \n",
    "    def display(self):\n",
    "        if self.head is None:\n",
    "            print(\"Empyt LinkedList\")\n",
    "        else:\n",
    "            temp = self.head\n",
    "            while temp:\n",
    "                print(temp.data, '--->', end= \" \" )\n",
    "                temp = temp.next"
   ]
  },
  {
   "cell_type": "code",
   "execution_count": 2,
   "id": "12dafc9f",
   "metadata": {},
   "outputs": [],
   "source": [
    "dl = DLL()"
   ]
  },
  {
   "cell_type": "code",
   "execution_count": 3,
   "id": "4d9ab135",
   "metadata": {},
   "outputs": [
    {
     "name": "stdout",
     "output_type": "stream",
     "text": [
      "Empyt LinkedList\n"
     ]
    }
   ],
   "source": [
    "dl.display()"
   ]
  },
  {
   "cell_type": "code",
   "execution_count": 4,
   "id": "125da26a",
   "metadata": {},
   "outputs": [],
   "source": [
    "n1 = Node(10)\n",
    "dl.head = n1\n",
    "\n",
    "n2 = Node(20)\n",
    "n2.prev = n1\n",
    "n1.next = n2\n",
    "\n",
    "n3 = Node(30)\n",
    "n3.prev = n2\n",
    "n2.next = n3\n",
    "\n",
    "n4 = Node(40)\n",
    "n4.prev = n3\n",
    "n3.next = n4"
   ]
  },
  {
   "cell_type": "code",
   "execution_count": 5,
   "id": "2d1b901e",
   "metadata": {},
   "outputs": [
    {
     "name": "stdout",
     "output_type": "stream",
     "text": [
      "10 ---> 20 ---> 30 ---> 40 ---> "
     ]
    }
   ],
   "source": [
    "dl.display()"
   ]
  },
  {
   "cell_type": "code",
   "execution_count": 6,
   "id": "bb6b080e",
   "metadata": {},
   "outputs": [
    {
     "name": "stdout",
     "output_type": "stream",
     "text": [
      "5 ---> 10 ---> 20 ---> 30 ---> 40 ---> "
     ]
    }
   ],
   "source": [
    "dl.insert_begining(5)\n",
    "dl.display()"
   ]
  },
  {
   "cell_type": "code",
   "execution_count": 7,
   "id": "e640d528",
   "metadata": {},
   "outputs": [
    {
     "name": "stdout",
     "output_type": "stream",
     "text": [
      "5 ---> 10 ---> 20 ---> 30 ---> 40 ---> 50 ---> "
     ]
    }
   ],
   "source": [
    "dl.insert_ending(50)\n",
    "dl.display()"
   ]
  },
  {
   "cell_type": "code",
   "execution_count": 8,
   "id": "ef1a1343",
   "metadata": {},
   "outputs": [
    {
     "name": "stdout",
     "output_type": "stream",
     "text": [
      "5 ---> 10 ---> 20 ---> 25 ---> 30 ---> 40 ---> 50 ---> "
     ]
    }
   ],
   "source": [
    "dl.insert_position(4,25)\n",
    "dl.display()"
   ]
  },
  {
   "cell_type": "code",
   "execution_count": 9,
   "id": "fe5c0836",
   "metadata": {},
   "outputs": [
    {
     "name": "stdout",
     "output_type": "stream",
     "text": [
      "10 ---> 20 ---> 25 ---> 30 ---> 40 ---> 50 ---> "
     ]
    }
   ],
   "source": [
    "dl.del_begining()\n",
    "dl.display()"
   ]
  },
  {
   "cell_type": "code",
   "execution_count": 10,
   "id": "540f8d6d",
   "metadata": {},
   "outputs": [
    {
     "name": "stdout",
     "output_type": "stream",
     "text": [
      "10 ---> 20 ---> 25 ---> 30 ---> 40 ---> "
     ]
    }
   ],
   "source": [
    "dl.del_ending()\n",
    "dl.display()"
   ]
  },
  {
   "cell_type": "code",
   "execution_count": 11,
   "id": "7d6046de",
   "metadata": {},
   "outputs": [
    {
     "name": "stdout",
     "output_type": "stream",
     "text": [
      "10 ---> 20 ---> 30 ---> 40 ---> "
     ]
    }
   ],
   "source": [
    "dl.del_pos(3)\n",
    "dl.display()"
   ]
  },
  {
   "cell_type": "code",
   "execution_count": null,
   "id": "5cdf018e",
   "metadata": {},
   "outputs": [],
   "source": []
  },
  {
   "cell_type": "code",
   "execution_count": null,
   "id": "ac0ddcf1",
   "metadata": {},
   "outputs": [],
   "source": []
  }
 ],
 "metadata": {
  "kernelspec": {
   "display_name": "Python 3 (ipykernel)",
   "language": "python",
   "name": "python3"
  },
  "language_info": {
   "codemirror_mode": {
    "name": "ipython",
    "version": 3
   },
   "file_extension": ".py",
   "mimetype": "text/x-python",
   "name": "python",
   "nbconvert_exporter": "python",
   "pygments_lexer": "ipython3",
   "version": "3.10.9"
  }
 },
 "nbformat": 4,
 "nbformat_minor": 5
}
