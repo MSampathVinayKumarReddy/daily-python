{
 "cells": [
  {
   "cell_type": "markdown",
   "id": "cd00d0c1",
   "metadata": {},
   "source": [
    "## Arrays"
   ]
  },
  {
   "cell_type": "markdown",
   "id": "68616530",
   "metadata": {},
   "source": [
    "#### Reverse Array"
   ]
  },
  {
   "cell_type": "code",
   "execution_count": 1,
   "id": "d67ed141",
   "metadata": {},
   "outputs": [],
   "source": [
    "arr = [1,2,3,4]"
   ]
  },
  {
   "cell_type": "code",
   "execution_count": 2,
   "id": "97af3de4",
   "metadata": {},
   "outputs": [
    {
     "name": "stdout",
     "output_type": "stream",
     "text": [
      "[4, 3, 2, 1]\n"
     ]
    }
   ],
   "source": [
    "print(arr[::-1])"
   ]
  },
  {
   "cell_type": "code",
   "execution_count": null,
   "id": "466d59b8",
   "metadata": {},
   "outputs": [],
   "source": []
  },
  {
   "cell_type": "code",
   "execution_count": 5,
   "id": "9016fdba",
   "metadata": {},
   "outputs": [
    {
     "name": "stdout",
     "output_type": "stream",
     "text": [
      "[4, 3, 2, 1]\n"
     ]
    }
   ],
   "source": [
    "arr = [1,2,3,4]\n",
    "sol = []\n",
    "for i in arr:\n",
    "    sol.insert(0, i)\n",
    "    \n",
    "print(sol)"
   ]
  },
  {
   "cell_type": "code",
   "execution_count": null,
   "id": "30a606b1",
   "metadata": {},
   "outputs": [],
   "source": []
  },
  {
   "cell_type": "code",
   "execution_count": 1,
   "id": "4f21b557",
   "metadata": {},
   "outputs": [],
   "source": [
    "def reverseArray(arr):\n",
    "    left = 0\n",
    "    right = len(arr) - 1\n",
    "    \n",
    "    while left < right:\n",
    "        temp = arr[left]\n",
    "        arr[left] = arr[right]\n",
    "        arr[right] = temp\n",
    "        \n",
    "        left += 1\n",
    "        right -= 1\n",
    "    \n",
    "    return arr"
   ]
  },
  {
   "cell_type": "code",
   "execution_count": 2,
   "id": "c7ea28ab",
   "metadata": {},
   "outputs": [
    {
     "data": {
      "text/plain": [
       "[6, 5, 4, 3, 2, 1]"
      ]
     },
     "execution_count": 2,
     "metadata": {},
     "output_type": "execute_result"
    }
   ],
   "source": [
    "reverseArray([1,2,3,4,5,6])"
   ]
  },
  {
   "cell_type": "code",
   "execution_count": 3,
   "id": "8ecbd4c1",
   "metadata": {},
   "outputs": [
    {
     "data": {
      "text/plain": [
       "[453, 2123, 2, 5, 33, 44]"
      ]
     },
     "execution_count": 3,
     "metadata": {},
     "output_type": "execute_result"
    }
   ],
   "source": [
    "reverseArray([44,33,5,2,2123,453])"
   ]
  },
  {
   "cell_type": "code",
   "execution_count": 5,
   "id": "9e11cece",
   "metadata": {},
   "outputs": [
    {
     "data": {
      "text/plain": [
       "[7, 6, 5, 4, 3, 2, 1]"
      ]
     },
     "execution_count": 5,
     "metadata": {},
     "output_type": "execute_result"
    }
   ],
   "source": [
    "reverseArray([1,2,3,4,5,6,7])"
   ]
  },
  {
   "cell_type": "code",
   "execution_count": null,
   "id": "34b59249",
   "metadata": {},
   "outputs": [],
   "source": []
  },
  {
   "cell_type": "markdown",
   "id": "4be72c99",
   "metadata": {},
   "source": [
    "#### Given an array arr[  ] and an integer K where K is smaller than size of array, the task is to find the Kth smallest element in the given array."
   ]
  },
  {
   "cell_type": "code",
   "execution_count": 12,
   "id": "dc4f819e",
   "metadata": {},
   "outputs": [],
   "source": [
    "def kHighest(arr, k):\n",
    "    for i in range(len(arr)):\n",
    "        for j in range(i+1, len(arr)):\n",
    "            if arr[i] > arr[j]:\n",
    "                arr[i], arr[j] = arr[j], arr[i]\n",
    "                \n",
    "    return arr, arr[k-1]"
   ]
  },
  {
   "cell_type": "code",
   "execution_count": 13,
   "id": "da789cb6",
   "metadata": {},
   "outputs": [
    {
     "data": {
      "text/plain": [
       "([2, 5, 33, 44, 453, 2123], 5)"
      ]
     },
     "execution_count": 13,
     "metadata": {},
     "output_type": "execute_result"
    }
   ],
   "source": [
    "kHighest([44,33,5,2,2123,453], 2)"
   ]
  },
  {
   "cell_type": "code",
   "execution_count": 15,
   "id": "6c423230",
   "metadata": {},
   "outputs": [
    {
     "data": {
      "text/plain": [
       "([3, 4, 5, 6, 7, 11, 32], 11)"
      ]
     },
     "execution_count": 15,
     "metadata": {},
     "output_type": "execute_result"
    }
   ],
   "source": [
    "kHighest([7,6,5,4,3,32,11], 6)"
   ]
  },
  {
   "cell_type": "code",
   "execution_count": null,
   "id": "6acc4d6d",
   "metadata": {},
   "outputs": [],
   "source": []
  },
  {
   "cell_type": "markdown",
   "id": "028db7ec",
   "metadata": {},
   "source": [
    "#### Sort an array of 0s, 1s and 2s"
   ]
  },
  {
   "cell_type": "code",
   "execution_count": null,
   "id": "de8dab39",
   "metadata": {},
   "outputs": [],
   "source": [
    "arr = [0, 1, 2, 0, 1, 2]\n",
    "idx--> 0, 1, 2, 3, 4, 5\n",
    "       l              r\n",
    "       c "
   ]
  },
  {
   "cell_type": "code",
   "execution_count": 1,
   "id": "f0cd79d0",
   "metadata": {},
   "outputs": [],
   "source": [
    "def sortArray(arr):\n",
    "    left = 0\n",
    "    right = len(arr) - 1\n",
    "    current = 0\n",
    "    \n",
    "    while current <= right:\n",
    "        if arr[current] == 0:\n",
    "            arr[current], arr[left] = arr[left], arr[current]\n",
    "            current += 1\n",
    "            left += 1\n",
    "        elif arr[current] == 2:\n",
    "            arr[current], arr[right] = arr[right], arr[current]\n",
    "            right -= 1\n",
    "        else:\n",
    "            current += 1\n",
    "            \n",
    "    return arr"
   ]
  },
  {
   "cell_type": "code",
   "execution_count": 2,
   "id": "67fd773d",
   "metadata": {},
   "outputs": [
    {
     "data": {
      "text/plain": [
       "[0, 0, 1, 1, 2, 2]"
      ]
     },
     "execution_count": 2,
     "metadata": {},
     "output_type": "execute_result"
    }
   ],
   "source": [
    "sortArray([0,1,2,0,1,2])"
   ]
  },
  {
   "cell_type": "code",
   "execution_count": 3,
   "id": "c4fab2bf",
   "metadata": {},
   "outputs": [
    {
     "data": {
      "text/plain": [
       "[0, 0, 0, 0, 0, 1, 1, 1, 1, 1, 2, 2]"
      ]
     },
     "execution_count": 3,
     "metadata": {},
     "output_type": "execute_result"
    }
   ],
   "source": [
    "sortArray([0, 1, 1, 0, 1, 2, 1, 2, 0, 0, 0, 1])"
   ]
  },
  {
   "cell_type": "code",
   "execution_count": null,
   "id": "789d235c",
   "metadata": {},
   "outputs": [],
   "source": []
  },
  {
   "cell_type": "markdown",
   "id": "d4fb4ee5",
   "metadata": {},
   "source": [
    "#### Move all negative numbers to one end"
   ]
  },
  {
   "cell_type": "code",
   "execution_count": 1,
   "id": "5a5b2982",
   "metadata": {},
   "outputs": [],
   "source": [
    "def movetoRight(arr):\n",
    "    left = 0\n",
    "    right = len(arr) - 1\n",
    "    \n",
    "    while left < right:\n",
    "        if arr[left] > 0:\n",
    "            left += 1\n",
    "        elif arr[right] < 0:\n",
    "            right -= 1\n",
    "        else:\n",
    "            arr[left], arr[right] = arr[right], arr[left]\n",
    "            \n",
    "    return arr"
   ]
  },
  {
   "cell_type": "code",
   "execution_count": 2,
   "id": "a00ce894",
   "metadata": {},
   "outputs": [
    {
     "data": {
      "text/plain": [
       "[11, 7, 10, 9, -4, -3, -1, -5]"
      ]
     },
     "execution_count": 2,
     "metadata": {},
     "output_type": "execute_result"
    }
   ],
   "source": [
    "movetoRight([-5, 7, -3, -4, 9, 10, -1, 11])"
   ]
  },
  {
   "cell_type": "code",
   "execution_count": 3,
   "id": "2852258c",
   "metadata": {},
   "outputs": [
    {
     "data": {
      "text/plain": [
       "[1, 6, 3, 2, 11, -5, -7, -1]"
      ]
     },
     "execution_count": 3,
     "metadata": {},
     "output_type": "execute_result"
    }
   ],
   "source": [
    "movetoRight(([1, -1, 3, 2, -7, -5, 11, 6]))"
   ]
  },
  {
   "cell_type": "markdown",
   "id": "bfb88482",
   "metadata": {},
   "source": [
    "###### same process for moving LEFT side"
   ]
  },
  {
   "cell_type": "code",
   "execution_count": null,
   "id": "70f449a5",
   "metadata": {},
   "outputs": [],
   "source": []
  },
  {
   "cell_type": "markdown",
   "id": "d1d9dbc9",
   "metadata": {},
   "source": [
    "#### Given an array, rotate the array by one position in clock-wise direction."
   ]
  },
  {
   "cell_type": "code",
   "execution_count": 1,
   "id": "4582c087",
   "metadata": {},
   "outputs": [],
   "source": [
    "def rotateClockwise(arr):\n",
    "    left = 0\n",
    "    right = len(arr) - 1\n",
    "    \n",
    "    while left != right:\n",
    "        arr[left], arr[right] = arr[right], arr[left]\n",
    "        left += 1\n",
    "        \n",
    "    return arr"
   ]
  },
  {
   "cell_type": "code",
   "execution_count": 2,
   "id": "58ff4456",
   "metadata": {},
   "outputs": [
    {
     "data": {
      "text/plain": [
       "[45, 1, 2, 3, 4]"
      ]
     },
     "execution_count": 2,
     "metadata": {},
     "output_type": "execute_result"
    }
   ],
   "source": [
    "rotateClockwise([1,2,3,4,45])"
   ]
  },
  {
   "cell_type": "code",
   "execution_count": 3,
   "id": "f195de72",
   "metadata": {},
   "outputs": [
    {
     "data": {
      "text/plain": [
       "[1, 8, 7, 6, 5, 4, 3, 2]"
      ]
     },
     "execution_count": 3,
     "metadata": {},
     "output_type": "execute_result"
    }
   ],
   "source": [
    "rotateClockwise([8,7,6,5,4,3,2,1])"
   ]
  },
  {
   "cell_type": "code",
   "execution_count": null,
   "id": "3e6530de",
   "metadata": {},
   "outputs": [],
   "source": []
  },
  {
   "cell_type": "markdown",
   "id": "e44c6e11",
   "metadata": {},
   "source": [
    "#### Max SUM of subarray"
   ]
  },
  {
   "cell_type": "code",
   "execution_count": 6,
   "id": "5587a42a",
   "metadata": {},
   "outputs": [],
   "source": [
    "def maxSumSubarray(arr):\n",
    "    curr_sum = 0\n",
    "    maxx_sum = arr[0]\n",
    "    \n",
    "    for i in range(0, len(arr)):\n",
    "        curr_sum = curr_sum + arr[i]\n",
    "        \n",
    "        if maxx_sum < curr_sum:\n",
    "            maxx_sum = curr_sum\n",
    "        elif curr_sum < 0:\n",
    "            curr_sum = 0\n",
    "            \n",
    "    return maxx_sum\n",
    "                "
   ]
  },
  {
   "cell_type": "code",
   "execution_count": 7,
   "id": "a7dec9ec",
   "metadata": {},
   "outputs": [
    {
     "data": {
      "text/plain": [
       "7"
      ]
     },
     "execution_count": 7,
     "metadata": {},
     "output_type": "execute_result"
    }
   ],
   "source": [
    "maxSumSubarray([2, -3, 4, -1, -2, 1, 5, -3])"
   ]
  },
  {
   "cell_type": "code",
   "execution_count": 8,
   "id": "092a9e9e",
   "metadata": {},
   "outputs": [
    {
     "data": {
      "text/plain": [
       "7"
      ]
     },
     "execution_count": 8,
     "metadata": {},
     "output_type": "execute_result"
    }
   ],
   "source": [
    "maxSumSubarray([4, -3, -2, 2, 3, 1, -2, -3, 6, -6, -4, 2, 1])"
   ]
  },
  {
   "cell_type": "code",
   "execution_count": null,
   "id": "a82e0608",
   "metadata": {},
   "outputs": [],
   "source": []
  },
  {
   "cell_type": "markdown",
   "id": "c4e333c7",
   "metadata": {},
   "source": [
    "#### 1. Two Sum"
   ]
  },
  {
   "cell_type": "code",
   "execution_count": 7,
   "id": "4718887c",
   "metadata": {},
   "outputs": [],
   "source": [
    "def twoSum(nums, target):\n",
    "    seen_dict = {}\n",
    "    \n",
    "    #create a dict to store idx, val of the nums in the form of \"val:idx\"\n",
    "    for idx, value in enumerate(nums):\n",
    "        remaining = target - nums[idx]\n",
    "        \n",
    "        #if remaining is in dict, then print the idx\n",
    "        if remaining in seen_dict:\n",
    "            return [seen_dict[remaining], idx]\n",
    "        \n",
    "        #else add the idx, val in the dict\n",
    "        else:\n",
    "            seen_dict[value] = idx"
   ]
  },
  {
   "cell_type": "code",
   "execution_count": 8,
   "id": "75ff298a",
   "metadata": {},
   "outputs": [
    {
     "data": {
      "text/plain": [
       "[0, 1]"
      ]
     },
     "execution_count": 8,
     "metadata": {},
     "output_type": "execute_result"
    }
   ],
   "source": [
    "twoSum([2,7,11,15], 9)"
   ]
  },
  {
   "cell_type": "code",
   "execution_count": 9,
   "id": "8101dcad",
   "metadata": {},
   "outputs": [
    {
     "data": {
      "text/plain": [
       "[0, 2]"
      ]
     },
     "execution_count": 9,
     "metadata": {},
     "output_type": "execute_result"
    }
   ],
   "source": [
    "twoSum([4,2,4,6], 8)"
   ]
  },
  {
   "cell_type": "code",
   "execution_count": 10,
   "id": "c50155bf",
   "metadata": {},
   "outputs": [
    {
     "data": {
      "text/plain": [
       "[1, 2]"
      ]
     },
     "execution_count": 10,
     "metadata": {},
     "output_type": "execute_result"
    }
   ],
   "source": [
    "twoSum([3, 2, 4], 6)"
   ]
  },
  {
   "cell_type": "code",
   "execution_count": null,
   "id": "5dd3dbcf",
   "metadata": {},
   "outputs": [],
   "source": []
  },
  {
   "cell_type": "markdown",
   "id": "3403722d",
   "metadata": {},
   "source": [
    "#### 121. Best Time to Buy and Sell Stock"
   ]
  },
  {
   "cell_type": "code",
   "execution_count": 1,
   "id": "edf37fa3",
   "metadata": {},
   "outputs": [],
   "source": [
    "# best runtime solution\n",
    "def BuySellStock(prices):\n",
    "    left = 0\n",
    "    maxProfit = 0\n",
    "    curProfit = 0\n",
    "    \n",
    "    for right in range(1, len(prices)):\n",
    "        currProfit = prices[right] - prices[left]\n",
    "        \n",
    "        if prices[right] > prices[left]:\n",
    "            maxProfit = max(currProfit, maxProfit)\n",
    "        else:\n",
    "            left = right\n",
    "        \n",
    "    return maxProfit"
   ]
  },
  {
   "cell_type": "code",
   "execution_count": 2,
   "id": "e90ce11f",
   "metadata": {},
   "outputs": [
    {
     "data": {
      "text/plain": [
       "5"
      ]
     },
     "execution_count": 2,
     "metadata": {},
     "output_type": "execute_result"
    }
   ],
   "source": [
    "BuySellStock([7,1,5,3,6,4])"
   ]
  },
  {
   "cell_type": "code",
   "execution_count": 3,
   "id": "db006a30",
   "metadata": {},
   "outputs": [
    {
     "data": {
      "text/plain": [
       "29"
      ]
     },
     "execution_count": 3,
     "metadata": {},
     "output_type": "execute_result"
    }
   ],
   "source": [
    "BuySellStock([4,6,2,1,6,7,30])"
   ]
  },
  {
   "cell_type": "code",
   "execution_count": 4,
   "id": "9b04167d",
   "metadata": {},
   "outputs": [
    {
     "data": {
      "text/plain": [
       "0"
      ]
     },
     "execution_count": 4,
     "metadata": {},
     "output_type": "execute_result"
    }
   ],
   "source": [
    "BuySellStock([7,6,4,3,1])"
   ]
  },
  {
   "cell_type": "code",
   "execution_count": null,
   "id": "eae40c92",
   "metadata": {},
   "outputs": [],
   "source": []
  },
  {
   "cell_type": "code",
   "execution_count": 13,
   "id": "f9d637d5",
   "metadata": {},
   "outputs": [],
   "source": [
    "#best memory solution\n",
    "def BuySellStock2(prices):\n",
    "    profit = 0\n",
    "    min_price = prices[0]\n",
    "\n",
    "    for price in prices[1:]:\n",
    "        if price - min_price > profit:\n",
    "            profit = price - min_price\n",
    "\n",
    "        if price < min_price:\n",
    "            min_price = price\n",
    "    return profit "
   ]
  },
  {
   "cell_type": "code",
   "execution_count": 11,
   "id": "01448117",
   "metadata": {},
   "outputs": [
    {
     "data": {
      "text/plain": [
       "5"
      ]
     },
     "execution_count": 11,
     "metadata": {},
     "output_type": "execute_result"
    }
   ],
   "source": [
    "BuySellStock2([7,1,5,3,6,4])"
   ]
  },
  {
   "cell_type": "code",
   "execution_count": 12,
   "id": "9dfafc40",
   "metadata": {},
   "outputs": [
    {
     "data": {
      "text/plain": [
       "29"
      ]
     },
     "execution_count": 12,
     "metadata": {},
     "output_type": "execute_result"
    }
   ],
   "source": [
    "BuySellStock2([4,6,2,1,6,7,30])"
   ]
  },
  {
   "cell_type": "code",
   "execution_count": null,
   "id": "61d81f19",
   "metadata": {},
   "outputs": [],
   "source": []
  },
  {
   "cell_type": "markdown",
   "id": "72ce0075",
   "metadata": {},
   "source": [
    "#### 88. Merge Sorted Array"
   ]
  },
  {
   "cell_type": "code",
   "execution_count": 1,
   "id": "755b93e1",
   "metadata": {},
   "outputs": [],
   "source": [
    "def mergeSortedArrays(nums1, nums2, m, n):\n",
    "    a = m - 1\n",
    "    b = n - 1\n",
    "    w = m + n - 1\n",
    "    \n",
    "    while b>=0:\n",
    "        if a>=0 and nums1[a] > nums2[b]:\n",
    "            nums1[w] = nums1[a]\n",
    "            a = a - 1 \n",
    "        else:\n",
    "            nums1[w] = nums2[b]\n",
    "            b = b - 1\n",
    "            \n",
    "        w = w - 1\n",
    "        \n",
    "    return nums1"
   ]
  },
  {
   "cell_type": "code",
   "execution_count": 2,
   "id": "7c5e1c9d",
   "metadata": {},
   "outputs": [
    {
     "data": {
      "text/plain": [
       "[1, 2, 2, 3, 5, 6]"
      ]
     },
     "execution_count": 2,
     "metadata": {},
     "output_type": "execute_result"
    }
   ],
   "source": [
    "mergeSortedArrays([1,2,3,0,0,0], [2,5,6], 3, 3)"
   ]
  },
  {
   "cell_type": "code",
   "execution_count": 3,
   "id": "97bd238e",
   "metadata": {},
   "outputs": [
    {
     "data": {
      "text/plain": [
       "[1]"
      ]
     },
     "execution_count": 3,
     "metadata": {},
     "output_type": "execute_result"
    }
   ],
   "source": [
    "mergeSortedArrays([1], [], 1, 0)"
   ]
  },
  {
   "cell_type": "code",
   "execution_count": 4,
   "id": "bf2188fa",
   "metadata": {},
   "outputs": [
    {
     "data": {
      "text/plain": [
       "[1]"
      ]
     },
     "execution_count": 4,
     "metadata": {},
     "output_type": "execute_result"
    }
   ],
   "source": [
    "mergeSortedArrays([0], [1], 0, 1)"
   ]
  },
  {
   "cell_type": "code",
   "execution_count": null,
   "id": "d3b43b81",
   "metadata": {},
   "outputs": [],
   "source": []
  },
  {
   "cell_type": "markdown",
   "id": "192b60b6",
   "metadata": {},
   "source": [
    "#### 283. Move Zeroes"
   ]
  },
  {
   "cell_type": "code",
   "execution_count": 1,
   "id": "be82b87c",
   "metadata": {},
   "outputs": [],
   "source": [
    "def moveZeros(arr):\n",
    "    left = 0\n",
    "    for right in range(len(arr)):\n",
    "        if arr[right]!=0:\n",
    "            arr[left], arr[right] = arr[right], arr[left]\n",
    "            left = left + 1\n",
    "            \n",
    "    return arr"
   ]
  },
  {
   "cell_type": "code",
   "execution_count": 2,
   "id": "33feba8f",
   "metadata": {},
   "outputs": [
    {
     "data": {
      "text/plain": [
       "[1, 12, 13, 7, 5, 0, 0, 0, 0]"
      ]
     },
     "execution_count": 2,
     "metadata": {},
     "output_type": "execute_result"
    }
   ],
   "source": [
    "moveZeros([0,1,0,12,13,0,7,5,0])"
   ]
  },
  {
   "cell_type": "code",
   "execution_count": 3,
   "id": "91efc036",
   "metadata": {},
   "outputs": [
    {
     "data": {
      "text/plain": [
       "[1, 4, 2, 12, 34, 0, 0, 0, 0, 0]"
      ]
     },
     "execution_count": 3,
     "metadata": {},
     "output_type": "execute_result"
    }
   ],
   "source": [
    "moveZeros([1,4,0,2,0,0,12,0,34,0])"
   ]
  },
  {
   "cell_type": "code",
   "execution_count": null,
   "id": "5fe8ffc7",
   "metadata": {},
   "outputs": [],
   "source": []
  },
  {
   "cell_type": "markdown",
   "id": "9c5691e5",
   "metadata": {},
   "source": [
    "#### 122. Best Time to Buy and Sell Stock II"
   ]
  },
  {
   "cell_type": "code",
   "execution_count": 4,
   "id": "01feb8d6",
   "metadata": {},
   "outputs": [],
   "source": [
    "def BuySellStock2(prices):\n",
    "    profit = 0\n",
    "    for price in range(1, len(prices)):\n",
    "        if prices[price] > prices[price - 1]:\n",
    "            profit = profit + (prices[price] - prices[price - 1])\n",
    "            \n",
    "    return profit"
   ]
  },
  {
   "cell_type": "code",
   "execution_count": 5,
   "id": "27a0f3b8",
   "metadata": {},
   "outputs": [
    {
     "data": {
      "text/plain": [
       "7"
      ]
     },
     "execution_count": 5,
     "metadata": {},
     "output_type": "execute_result"
    }
   ],
   "source": [
    "BuySellStock2([7,1,5,3,6,4])"
   ]
  },
  {
   "cell_type": "code",
   "execution_count": 6,
   "id": "8ded1caa",
   "metadata": {},
   "outputs": [
    {
     "data": {
      "text/plain": [
       "6"
      ]
     },
     "execution_count": 6,
     "metadata": {},
     "output_type": "execute_result"
    }
   ],
   "source": [
    "BuySellStock2([1,2,3,4,5,6,7])"
   ]
  },
  {
   "cell_type": "code",
   "execution_count": null,
   "id": "8f4bd00f",
   "metadata": {},
   "outputs": [],
   "source": []
  },
  {
   "cell_type": "markdown",
   "id": "dff65013",
   "metadata": {},
   "source": [
    "#### 1480. Running Sum of 1d Array"
   ]
  },
  {
   "cell_type": "code",
   "execution_count": 1,
   "id": "93113c0d",
   "metadata": {},
   "outputs": [],
   "source": [
    "nums = [1,2,3,4]"
   ]
  },
  {
   "cell_type": "code",
   "execution_count": 2,
   "id": "149a7afc",
   "metadata": {},
   "outputs": [
    {
     "name": "stdout",
     "output_type": "stream",
     "text": [
      "[1, 3, 6, 10]\n"
     ]
    }
   ],
   "source": [
    "#method 1 : by creating new array and appending the results\n",
    "\n",
    "summ = 0\n",
    "nums2 = []\n",
    "\n",
    "for i in nums:\n",
    "    summ = summ + i\n",
    "    nums2.append(summ)\n",
    "    \n",
    "    \n",
    "print(nums2)"
   ]
  },
  {
   "cell_type": "code",
   "execution_count": 3,
   "id": "6be5a8a3",
   "metadata": {},
   "outputs": [
    {
     "name": "stdout",
     "output_type": "stream",
     "text": [
      "[1, 3, 6, 10]\n"
     ]
    }
   ],
   "source": [
    "#Method2: Most Efficient\n",
    "\n",
    "for i in range(1, len(nums)):\n",
    "    nums[i] = nums[i] + nums[i-1]\n",
    "    \n",
    "    \n",
    "print(nums)"
   ]
  },
  {
   "cell_type": "code",
   "execution_count": 4,
   "id": "6beb255e",
   "metadata": {},
   "outputs": [],
   "source": [
    "def runSum(nums):\n",
    "    for i in range(1, len(nums)):\n",
    "        nums[i] = nums[i] + nums[i-1]\n",
    "        \n",
    "    return nums"
   ]
  },
  {
   "cell_type": "code",
   "execution_count": 5,
   "id": "0136004b",
   "metadata": {},
   "outputs": [
    {
     "data": {
      "text/plain": [
       "[1, 3, 6, 10]"
      ]
     },
     "execution_count": 5,
     "metadata": {},
     "output_type": "execute_result"
    }
   ],
   "source": [
    "runSum([1,2,3,4])"
   ]
  },
  {
   "cell_type": "code",
   "execution_count": 6,
   "id": "0e3e3e56",
   "metadata": {},
   "outputs": [
    {
     "data": {
      "text/plain": [
       "[10, 44, 56, 111]"
      ]
     },
     "execution_count": 6,
     "metadata": {},
     "output_type": "execute_result"
    }
   ],
   "source": [
    "runSum([10,34,12,55])"
   ]
  },
  {
   "cell_type": "code",
   "execution_count": null,
   "id": "ef043576",
   "metadata": {},
   "outputs": [],
   "source": []
  },
  {
   "cell_type": "markdown",
   "id": "0ed5cb45",
   "metadata": {},
   "source": [
    "#### 724. Find Pivot Index"
   ]
  },
  {
   "cell_type": "code",
   "execution_count": 5,
   "id": "81d6b271",
   "metadata": {},
   "outputs": [],
   "source": [
    "#bruteforce method\n",
    "#https://www.youtube.com/watch?v=Iws9fWiMRlo\n",
    "\n",
    "def bf(nums):\n",
    "    for i in range(len(nums)):\n",
    "        if i == 0 and sum(nums[i+1:]) == 0:\n",
    "            return i\n",
    "        elif sum(nums[:i]) == sum(nums[i+1:]):\n",
    "            return i\n",
    "        elif i==len(nums)-1 and sum(nums[:i])==0:\n",
    "            return i\n",
    "\n",
    "    return -1"
   ]
  },
  {
   "cell_type": "code",
   "execution_count": 6,
   "id": "4655db4e",
   "metadata": {},
   "outputs": [
    {
     "data": {
      "text/plain": [
       "3"
      ]
     },
     "execution_count": 6,
     "metadata": {},
     "output_type": "execute_result"
    }
   ],
   "source": [
    "bf([1,7,3,6,5,6])"
   ]
  },
  {
   "cell_type": "code",
   "execution_count": 7,
   "id": "dad4be14",
   "metadata": {},
   "outputs": [
    {
     "data": {
      "text/plain": [
       "-1"
      ]
     },
     "execution_count": 7,
     "metadata": {},
     "output_type": "execute_result"
    }
   ],
   "source": [
    "bf([1,2,3])"
   ]
  },
  {
   "cell_type": "code",
   "execution_count": 8,
   "id": "a5c27aa5",
   "metadata": {},
   "outputs": [
    {
     "data": {
      "text/plain": [
       "0"
      ]
     },
     "execution_count": 8,
     "metadata": {},
     "output_type": "execute_result"
    }
   ],
   "source": [
    "bf([2,1,-1])"
   ]
  },
  {
   "cell_type": "code",
   "execution_count": 9,
   "id": "0763ae67",
   "metadata": {},
   "outputs": [],
   "source": [
    "# most efficient\n",
    "def pivotIndex(nums):\n",
    "    left, right = 0, sum(nums)\n",
    "    \n",
    "    for idx, num in enumerate(nums):\n",
    "        right = right - num\n",
    "        if left == right:\n",
    "            return idx\n",
    "        left = left + num\n",
    "        \n",
    "    return -1"
   ]
  },
  {
   "cell_type": "code",
   "execution_count": 10,
   "id": "1f214e75",
   "metadata": {},
   "outputs": [
    {
     "data": {
      "text/plain": [
       "3"
      ]
     },
     "execution_count": 10,
     "metadata": {},
     "output_type": "execute_result"
    }
   ],
   "source": [
    "pivotIndex([1,7,3,6,5,6])"
   ]
  },
  {
   "cell_type": "code",
   "execution_count": 11,
   "id": "dec8f76c",
   "metadata": {},
   "outputs": [
    {
     "data": {
      "text/plain": [
       "-1"
      ]
     },
     "execution_count": 11,
     "metadata": {},
     "output_type": "execute_result"
    }
   ],
   "source": [
    "pivotIndex([1,2,3])"
   ]
  },
  {
   "cell_type": "code",
   "execution_count": 12,
   "id": "b4a33326",
   "metadata": {},
   "outputs": [
    {
     "data": {
      "text/plain": [
       "0"
      ]
     },
     "execution_count": 12,
     "metadata": {},
     "output_type": "execute_result"
    }
   ],
   "source": [
    "pivotIndex([2,1,-1])"
   ]
  },
  {
   "cell_type": "code",
   "execution_count": 1,
   "id": "354870ec",
   "metadata": {},
   "outputs": [],
   "source": [
    "def pivotIndex2(nums):\n",
    "    total = sum(nums)\n",
    "    \n",
    "    leftSum = 0\n",
    "    for i in range(len(nums)):\n",
    "        rightSum = total - nums[i] - leftSum\n",
    "        if leftSum == rightSum:\n",
    "            return i\n",
    "        leftSum = leftSum + nums[i]\n",
    "        \n",
    "    return -1"
   ]
  },
  {
   "cell_type": "code",
   "execution_count": 2,
   "id": "c9b329c3",
   "metadata": {},
   "outputs": [
    {
     "data": {
      "text/plain": [
       "3"
      ]
     },
     "execution_count": 2,
     "metadata": {},
     "output_type": "execute_result"
    }
   ],
   "source": [
    "pivotIndex2([1,7,3,6,5,6])"
   ]
  },
  {
   "cell_type": "code",
   "execution_count": 3,
   "id": "7778b2ea",
   "metadata": {},
   "outputs": [
    {
     "data": {
      "text/plain": [
       "-1"
      ]
     },
     "execution_count": 3,
     "metadata": {},
     "output_type": "execute_result"
    }
   ],
   "source": [
    "pivotIndex2([1,2,3])"
   ]
  },
  {
   "cell_type": "code",
   "execution_count": 5,
   "id": "a7f13c62",
   "metadata": {},
   "outputs": [
    {
     "data": {
      "text/plain": [
       "0"
      ]
     },
     "execution_count": 5,
     "metadata": {},
     "output_type": "execute_result"
    }
   ],
   "source": [
    "pivotIndex2([2,1,-1])"
   ]
  },
  {
   "cell_type": "code",
   "execution_count": null,
   "id": "07fe2a1c",
   "metadata": {},
   "outputs": [],
   "source": []
  },
  {
   "cell_type": "markdown",
   "id": "8167c293",
   "metadata": {},
   "source": [
    "#### 169. Majority Element"
   ]
  },
  {
   "cell_type": "code",
   "execution_count": 1,
   "id": "2724a36c",
   "metadata": {},
   "outputs": [],
   "source": [
    "# brute force approach\n",
    "def majorityCountBF(nums):\n",
    "    for i in nums:\n",
    "        if nums.count(i) > len(nums)/2:\n",
    "            return i"
   ]
  },
  {
   "cell_type": "code",
   "execution_count": 2,
   "id": "f2766a8b",
   "metadata": {},
   "outputs": [
    {
     "data": {
      "text/plain": [
       "2"
      ]
     },
     "execution_count": 2,
     "metadata": {},
     "output_type": "execute_result"
    }
   ],
   "source": [
    "majorityCountBF([2,2,1,1,1,2,2])"
   ]
  },
  {
   "cell_type": "code",
   "execution_count": 3,
   "id": "078c7203",
   "metadata": {},
   "outputs": [
    {
     "data": {
      "text/plain": [
       "3"
      ]
     },
     "execution_count": 3,
     "metadata": {},
     "output_type": "execute_result"
    }
   ],
   "source": [
    "majorityCountBF([3,2,3])"
   ]
  },
  {
   "cell_type": "code",
   "execution_count": 9,
   "id": "94689b4d",
   "metadata": {},
   "outputs": [],
   "source": [
    "# efficient approach\n",
    "# https://youtu.be/7pnhv842keE\n",
    "\n",
    "\"\"\"\n",
    "            Since the count of majority element will be atleast n//2 + 1 therefore, \n",
    "            if we make a number as majorityElement and keep on incrementing the count if we encounter that element again \n",
    "            and decrement the count if any other element is encountered then the majority element will have atleast 1 in count. \n",
    "            Whenever the count becomes 0, reinitialise the majority element with current number.\n",
    "            For example, nums = [2,2,1,1,1,2,2]\n",
    "            Let's say majorityElement is 2 therefore count will be 1.\n",
    "            Nove move ahead and again 2 is encountered so count will be incremented and become 2.\n",
    "            Now 1 is encountered so count will be decremented and become 1\n",
    "            Now again 1 is encountered so count will be decremented and become 0\n",
    "            Now 1 is encountered but count is 0 so initialize 1 as majority element and count to 1 again.\n",
    "            Now 2 is encountered so count will be decremented and become 0\n",
    "            Now again 2 is encountered but count is 0 so initialize 2 as majority element and count to 1 again.\n",
    "            Now no more elements are left so just return the majprity element.\n",
    "\"\"\"\n",
    "\n",
    "\n",
    "\n",
    "\n",
    "def majorityCount(nums):\n",
    "    solution = \n",
    "    count = 0\n",
    "    \n",
    "    for n in nums:\n",
    "        if count == 0:\n",
    "            solution == n\n",
    "            count = 1\n",
    "        else:\n",
    "            if n == solution:\n",
    "                count = count + 1\n",
    "            else:\n",
    "                count = count - 1\n",
    "        \n",
    "    return solution"
   ]
  },
  {
   "cell_type": "code",
   "execution_count": 10,
   "id": "6aa9599a",
   "metadata": {},
   "outputs": [
    {
     "data": {
      "text/plain": [
       "0"
      ]
     },
     "execution_count": 10,
     "metadata": {},
     "output_type": "execute_result"
    }
   ],
   "source": [
    "majorityCount([2,2,1,1,1,2,2])"
   ]
  },
  {
   "cell_type": "code",
   "execution_count": 11,
   "id": "d99934a6",
   "metadata": {},
   "outputs": [
    {
     "data": {
      "text/plain": [
       "0"
      ]
     },
     "execution_count": 11,
     "metadata": {},
     "output_type": "execute_result"
    }
   ],
   "source": [
    "majorityCount([3,2,3])"
   ]
  },
  {
   "cell_type": "code",
   "execution_count": null,
   "id": "358005be",
   "metadata": {},
   "outputs": [],
   "source": []
  },
  {
   "cell_type": "markdown",
   "id": "f5af359d",
   "metadata": {},
   "source": [
    "#### 509. Fibonacci Number"
   ]
  },
  {
   "cell_type": "code",
   "execution_count": 5,
   "id": "8a17ce6f",
   "metadata": {},
   "outputs": [],
   "source": [
    "def fibonacciNum(number):\n",
    "    a, b = 0, 1\n",
    "    for i in range(number):\n",
    "        a, b = b, a + b\n",
    "        \n",
    "    return a"
   ]
  },
  {
   "cell_type": "code",
   "execution_count": 6,
   "id": "06b0b369",
   "metadata": {},
   "outputs": [
    {
     "data": {
      "text/plain": [
       "5"
      ]
     },
     "execution_count": 6,
     "metadata": {},
     "output_type": "execute_result"
    }
   ],
   "source": [
    "fibonacciNum(5)"
   ]
  },
  {
   "cell_type": "code",
   "execution_count": 7,
   "id": "35979de5",
   "metadata": {},
   "outputs": [
    {
     "data": {
      "text/plain": [
       "3"
      ]
     },
     "execution_count": 7,
     "metadata": {},
     "output_type": "execute_result"
    }
   ],
   "source": [
    "fibonacciNum(4)"
   ]
  },
  {
   "cell_type": "code",
   "execution_count": 8,
   "id": "a161c285",
   "metadata": {},
   "outputs": [
    {
     "data": {
      "text/plain": [
       "8"
      ]
     },
     "execution_count": 8,
     "metadata": {},
     "output_type": "execute_result"
    }
   ],
   "source": [
    "fibonacciNum(6)"
   ]
  },
  {
   "cell_type": "code",
   "execution_count": null,
   "id": "e1b7bb4a",
   "metadata": {},
   "outputs": [],
   "source": []
  },
  {
   "cell_type": "markdown",
   "id": "ccc2c7ff",
   "metadata": {},
   "source": [
    "#### 977. Squares of a Sorted Array"
   ]
  },
  {
   "cell_type": "code",
   "execution_count": 1,
   "id": "8029351e",
   "metadata": {},
   "outputs": [],
   "source": [
    "# brute force approach\n",
    "\n",
    "def sqSortedArrayBF(arr):\n",
    "    solution = [i**2 for i in arr]\n",
    "    solution.sort()\n",
    "    \n",
    "    return solution"
   ]
  },
  {
   "cell_type": "code",
   "execution_count": 2,
   "id": "46d9857c",
   "metadata": {},
   "outputs": [
    {
     "data": {
      "text/plain": [
       "[4, 9, 9, 49, 121]"
      ]
     },
     "execution_count": 2,
     "metadata": {},
     "output_type": "execute_result"
    }
   ],
   "source": [
    "sqSortedArrayBF([-7,-3,2,3,11])"
   ]
  },
  {
   "cell_type": "code",
   "execution_count": 3,
   "id": "2c655201",
   "metadata": {},
   "outputs": [
    {
     "data": {
      "text/plain": [
       "[0, 1, 9, 16, 100]"
      ]
     },
     "execution_count": 3,
     "metadata": {},
     "output_type": "execute_result"
    }
   ],
   "source": [
    "sqSortedArrayBF([-4,-1,0,3,10])"
   ]
  },
  {
   "cell_type": "code",
   "execution_count": null,
   "id": "28d8be1f",
   "metadata": {},
   "outputs": [],
   "source": []
  },
  {
   "cell_type": "code",
   "execution_count": 5,
   "id": "a0a181dc",
   "metadata": {},
   "outputs": [],
   "source": [
    "# efficient approach\n",
    "\n",
    "def sqSortedArray(arr):\n",
    "    solution = []\n",
    "    \n",
    "    l = 0 \n",
    "    r = len(arr) - 1\n",
    "    \n",
    "    while l<=r:\n",
    "        if arr[l]*arr[l] > arr[r]*arr[r]:\n",
    "            solution.append(arr[l]*arr[l])\n",
    "            l = l + 1\n",
    "        else:\n",
    "            solution.append(arr[r]*arr[r])\n",
    "            r = r - 1\n",
    "            \n",
    "    return solution[::-1]"
   ]
  },
  {
   "cell_type": "code",
   "execution_count": 6,
   "id": "c48d81e4",
   "metadata": {},
   "outputs": [
    {
     "data": {
      "text/plain": [
       "[4, 9, 9, 49, 121]"
      ]
     },
     "execution_count": 6,
     "metadata": {},
     "output_type": "execute_result"
    }
   ],
   "source": [
    "sqSortedArray([-7,-3,2,3,11])"
   ]
  },
  {
   "cell_type": "code",
   "execution_count": 7,
   "id": "0785a339",
   "metadata": {},
   "outputs": [
    {
     "data": {
      "text/plain": [
       "[0, 1, 9, 16, 100]"
      ]
     },
     "execution_count": 7,
     "metadata": {},
     "output_type": "execute_result"
    }
   ],
   "source": [
    "sqSortedArray([-4,-1,0,3,10])"
   ]
  },
  {
   "cell_type": "code",
   "execution_count": null,
   "id": "c9c729a7",
   "metadata": {},
   "outputs": [],
   "source": []
  },
  {
   "cell_type": "markdown",
   "id": "858b5964",
   "metadata": {},
   "source": [
    "#### 118. Pascal's Triangle"
   ]
  },
  {
   "cell_type": "code",
   "execution_count": 9,
   "id": "0c7b2ff4",
   "metadata": {},
   "outputs": [],
   "source": [
    "def pascalTriangle(numRows):\n",
    "    solution = [[1]*(i+1) for i in range(numRows)]\n",
    "    for i in range(numRows):\n",
    "        for j in range(1, i):\n",
    "            solution[i][j] = solution[i-1][j-1] + solution[i-1][j]\n",
    "            \n",
    "    return solution"
   ]
  },
  {
   "cell_type": "code",
   "execution_count": 11,
   "id": "d3650fc5",
   "metadata": {},
   "outputs": [
    {
     "data": {
      "text/plain": [
       "[[1], [1, 1], [1, 2, 1], [1, 3, 3, 1], [1, 4, 6, 4, 1]]"
      ]
     },
     "execution_count": 11,
     "metadata": {},
     "output_type": "execute_result"
    }
   ],
   "source": [
    "pascalTriangle(5)"
   ]
  },
  {
   "cell_type": "code",
   "execution_count": null,
   "id": "b0b768cd",
   "metadata": {},
   "outputs": [],
   "source": []
  },
  {
   "cell_type": "markdown",
   "id": "d9fb627f",
   "metadata": {},
   "source": [
    "#### 26. Remove Duplicates from Sorted Array"
   ]
  },
  {
   "cell_type": "code",
   "execution_count": 9,
   "id": "9ec073c7",
   "metadata": {},
   "outputs": [],
   "source": [
    "def sortedArray(arr):\n",
    "    left = 1\n",
    "    for right in range(1, len(arr)):\n",
    "        if arr[right] != arr[right - 1]:\n",
    "            arr[left] = arr[right]\n",
    "            left = left + 1\n",
    "            \n",
    "    return left, arr"
   ]
  },
  {
   "cell_type": "code",
   "execution_count": 10,
   "id": "be8149b4",
   "metadata": {},
   "outputs": [
    {
     "data": {
      "text/plain": [
       "(5, [0, 1, 2, 3, 4, 2, 2, 3, 3, 4])"
      ]
     },
     "execution_count": 10,
     "metadata": {},
     "output_type": "execute_result"
    }
   ],
   "source": [
    "sortedArray([0,0,1,1,1,2,2,3,3,4])"
   ]
  },
  {
   "cell_type": "code",
   "execution_count": null,
   "id": "d9f4ed6f",
   "metadata": {},
   "outputs": [],
   "source": []
  },
  {
   "cell_type": "markdown",
   "id": "3aeaf77d",
   "metadata": {},
   "source": [
    "#### 56. Merge Intervals"
   ]
  },
  {
   "cell_type": "code",
   "execution_count": 4,
   "id": "a40e29c7",
   "metadata": {},
   "outputs": [],
   "source": [
    "def mergeIntervals(intervals):\n",
    "    intervals.sort(key = lambda i:i[0])\n",
    "    solution = [intervals[0]]\n",
    "    for start, end in intervals[1:]:\n",
    "        lastEnd = solution[-1][1]\n",
    "        \n",
    "        if start <= solution[-1][1]:\n",
    "            solution[-1][1] = max(lastEnd, end)\n",
    "        else:\n",
    "            solution.append([start, end])\n",
    "            \n",
    "    return solution"
   ]
  },
  {
   "cell_type": "code",
   "execution_count": 5,
   "id": "53715f72",
   "metadata": {},
   "outputs": [
    {
     "data": {
      "text/plain": [
       "[[1, 6], [8, 10], [15, 18]]"
      ]
     },
     "execution_count": 5,
     "metadata": {},
     "output_type": "execute_result"
    }
   ],
   "source": [
    "mergeIntervals([[1,3],[2,6],[8,10],[15,18]])"
   ]
  },
  {
   "cell_type": "code",
   "execution_count": 6,
   "id": "372a9ae4",
   "metadata": {},
   "outputs": [
    {
     "data": {
      "text/plain": [
       "[[1, 5]]"
      ]
     },
     "execution_count": 6,
     "metadata": {},
     "output_type": "execute_result"
    }
   ],
   "source": [
    "mergeIntervals([[1,4],[4,5]])"
   ]
  },
  {
   "cell_type": "code",
   "execution_count": 7,
   "id": "9e966fec",
   "metadata": {},
   "outputs": [
    {
     "data": {
      "text/plain": [
       "[[0, 4]]"
      ]
     },
     "execution_count": 7,
     "metadata": {},
     "output_type": "execute_result"
    }
   ],
   "source": [
    "mergeIntervals([[1,4],[0,4]])"
   ]
  },
  {
   "cell_type": "code",
   "execution_count": null,
   "id": "9f07f801",
   "metadata": {},
   "outputs": [],
   "source": []
  },
  {
   "cell_type": "markdown",
   "id": "2c0bcab7",
   "metadata": {},
   "source": [
    "#### 167. Two Sum II - Input Array Is Sorted"
   ]
  },
  {
   "cell_type": "code",
   "execution_count": 5,
   "id": "a2ff8926",
   "metadata": {},
   "outputs": [],
   "source": [
    "def twoSum2(nums, target):\n",
    "    left, right = 0, len(nums) - 1\n",
    "    \n",
    "    while left < right:\n",
    "        curSum = nums[left] + nums[right]\n",
    "        \n",
    "        if curSum > target:\n",
    "            right = right - 1\n",
    "        elif curSum < target:\n",
    "            left = left + 1\n",
    "        else:\n",
    "            return [left + 1, right + 1]"
   ]
  },
  {
   "cell_type": "code",
   "execution_count": 6,
   "id": "e9e7b1d4",
   "metadata": {},
   "outputs": [
    {
     "data": {
      "text/plain": [
       "[1, 2]"
      ]
     },
     "execution_count": 6,
     "metadata": {},
     "output_type": "execute_result"
    }
   ],
   "source": [
    "twoSum2([2,7,11,15], 9)"
   ]
  },
  {
   "cell_type": "code",
   "execution_count": 7,
   "id": "794a5a85",
   "metadata": {},
   "outputs": [
    {
     "data": {
      "text/plain": [
       "[1, 3]"
      ]
     },
     "execution_count": 7,
     "metadata": {},
     "output_type": "execute_result"
    }
   ],
   "source": [
    "twoSum2([2,3,4], 6)"
   ]
  },
  {
   "cell_type": "code",
   "execution_count": 8,
   "id": "2403156b",
   "metadata": {},
   "outputs": [
    {
     "data": {
      "text/plain": [
       "[1, 2]"
      ]
     },
     "execution_count": 8,
     "metadata": {},
     "output_type": "execute_result"
    }
   ],
   "source": [
    "twoSum2([-1,0], -1)"
   ]
  },
  {
   "cell_type": "code",
   "execution_count": null,
   "id": "5179befa",
   "metadata": {},
   "outputs": [],
   "source": []
  },
  {
   "cell_type": "markdown",
   "id": "ff83c0c6",
   "metadata": {},
   "source": [
    "#### 15. 3Sum"
   ]
  },
  {
   "cell_type": "code",
   "execution_count": 17,
   "id": "983fb435",
   "metadata": {},
   "outputs": [],
   "source": [
    "class Solution:\n",
    "    def threeSum(self, nums):\n",
    "        nums.sort()\n",
    "        sol = []\n",
    "        for i in range(len(nums)):\n",
    "            if i != 0 and nums[i] == nums[i-1]:\n",
    "                # to avoid dup triplets\n",
    "                continue\n",
    "            l, r = i+1, len(nums)-1\n",
    "            while l < r:\n",
    "                s = nums[l] + nums[r]\n",
    "                if s < -nums[i]:\n",
    "                    l+=1\n",
    "                elif s > -nums[i]:\n",
    "                    r-=1\n",
    "                else:\n",
    "                    sol.append([nums[i], nums[l], nums[r]])\n",
    "                    l+=1\n",
    "                    r-=1\n",
    "                    # below 2 loops to avoid dup triplets\n",
    "                    while l < r and nums[l] == nums[l-1]:\n",
    "                        l+=1\n",
    "                    while l < r and nums[r] == nums[r+1]:\n",
    "                        r-=1\n",
    "        return sol"
   ]
  },
  {
   "cell_type": "code",
   "execution_count": 18,
   "id": "26f094d7",
   "metadata": {},
   "outputs": [
    {
     "data": {
      "text/plain": [
       "[[-1, -1, 2], [-1, 0, 1]]"
      ]
     },
     "execution_count": 18,
     "metadata": {},
     "output_type": "execute_result"
    }
   ],
   "source": [
    "Solution().threeSum(nums = [-1,0,1,2,-1,-4])"
   ]
  },
  {
   "cell_type": "code",
   "execution_count": 19,
   "id": "a944a239",
   "metadata": {},
   "outputs": [
    {
     "data": {
      "text/plain": [
       "[]"
      ]
     },
     "execution_count": 19,
     "metadata": {},
     "output_type": "execute_result"
    }
   ],
   "source": [
    "Solution().threeSum(nums=[0,1,1])"
   ]
  },
  {
   "cell_type": "code",
   "execution_count": 20,
   "id": "de979c9b",
   "metadata": {},
   "outputs": [
    {
     "data": {
      "text/plain": [
       "[[0, 0, 0]]"
      ]
     },
     "execution_count": 20,
     "metadata": {},
     "output_type": "execute_result"
    }
   ],
   "source": [
    "Solution().threeSum(nums=[0,0,0])"
   ]
  },
  {
   "cell_type": "code",
   "execution_count": null,
   "id": "7cde3bd0",
   "metadata": {},
   "outputs": [],
   "source": []
  },
  {
   "cell_type": "markdown",
   "id": "f12e72a5",
   "metadata": {},
   "source": [
    "#### 238. Product of Array Except Self"
   ]
  },
  {
   "cell_type": "code",
   "execution_count": 1,
   "id": "0d5013e6",
   "metadata": {},
   "outputs": [
    {
     "data": {
      "text/plain": [
       "[[9, 8, 7, 6]]"
      ]
     },
     "execution_count": 1,
     "metadata": {},
     "output_type": "execute_result"
    }
   ],
   "source": [
    "# sum of array except itself example\n",
    "nums = [1,2,3,4]\n",
    "\n",
    "sol = []\n",
    "\n",
    "sol.append([sum(nums)- nums[i] for i in range(len(nums))])\n",
    "\n",
    "sol"
   ]
  },
  {
   "cell_type": "code",
   "execution_count": null,
   "id": "f23ed563",
   "metadata": {},
   "outputs": [],
   "source": []
  },
  {
   "cell_type": "code",
   "execution_count": 3,
   "id": "1a1a7bad",
   "metadata": {},
   "outputs": [],
   "source": [
    "# https://www.youtube.com/watch?v=bNvIQI2wAjk\n",
    "def prodArray(nums):\n",
    "    solution = [1] * (len(nums))\n",
    "    \n",
    "    prefix = 1\n",
    "    for i in range(len(nums)):\n",
    "        solution[i] = prefix\n",
    "        prefix = prefix * nums[i]\n",
    "        \n",
    "    postfix = 1\n",
    "    for i in range(len(nums)-1, -1, -1):\n",
    "        solution[i] = solution[i] * postfix\n",
    "        postfix = postfix * nums[i]\n",
    "        \n",
    "    return solution\n",
    "    "
   ]
  },
  {
   "cell_type": "code",
   "execution_count": 4,
   "id": "ea251eba",
   "metadata": {},
   "outputs": [
    {
     "data": {
      "text/plain": [
       "[24, 12, 8, 6]"
      ]
     },
     "execution_count": 4,
     "metadata": {},
     "output_type": "execute_result"
    }
   ],
   "source": [
    "prodArray([1,2,3,4])"
   ]
  },
  {
   "cell_type": "code",
   "execution_count": 5,
   "id": "5a56a2dc",
   "metadata": {},
   "outputs": [
    {
     "data": {
      "text/plain": [
       "[0, 0, 9, 0, 0]"
      ]
     },
     "execution_count": 5,
     "metadata": {},
     "output_type": "execute_result"
    }
   ],
   "source": [
    "prodArray([-1,1,0,-3,3])"
   ]
  },
  {
   "cell_type": "code",
   "execution_count": 7,
   "id": "77ef9631",
   "metadata": {},
   "outputs": [
    {
     "data": {
      "text/plain": [
       "[120, 90, 72, 60]"
      ]
     },
     "execution_count": 7,
     "metadata": {},
     "output_type": "execute_result"
    }
   ],
   "source": [
    "prodArray([3,4,5,6])"
   ]
  },
  {
   "cell_type": "code",
   "execution_count": null,
   "id": "27de9f9b",
   "metadata": {},
   "outputs": [],
   "source": []
  },
  {
   "cell_type": "markdown",
   "id": "b53ac379",
   "metadata": {},
   "source": [
    "#### 380. Insert Delete GetRandom O(1)"
   ]
  },
  {
   "cell_type": "code",
   "execution_count": 6,
   "id": "ab83e431",
   "metadata": {},
   "outputs": [],
   "source": [
    "#https://www.youtube.com/watch?v=j4KwhBziOpg\n",
    "import random"
   ]
  },
  {
   "cell_type": "markdown",
   "id": "d43f408b",
   "metadata": {},
   "source": [
    "###### ''' \n",
    "doing all the 3 operations in O(1)\n",
    "\n",
    "take a dict and list\n",
    "\n",
    "insert function\n",
    "---if val is not in the dict then add it to the dict {val:len(list)}\n",
    "and now add this val into list \n",
    "\n",
    "remove function\n",
    "---if val is present in map\n",
    "get the idx value from dict[value] \n",
    "now take the last value from the list and put it in the list[idx]\n",
    "now remove the last value\n",
    "now update the idx of last value\n",
    "now delete the val \n",
    "del dict[val]\n",
    "\n",
    "random function\n",
    "---random.choice(list)\n",
    "\n",
    "'''"
   ]
  },
  {
   "cell_type": "code",
   "execution_count": 7,
   "id": "e9289f1e",
   "metadata": {},
   "outputs": [],
   "source": [
    "class RandomizedSet(object):\n",
    "    \n",
    "    def __init__(self):\n",
    "        self.dict_ = {}\n",
    "        self.list_ = []\n",
    "        \n",
    "    def insert(self, val):\n",
    "        res = val not in self.dict_\n",
    "        if res:\n",
    "            self.dict_[val] = len(self.list_)\n",
    "            self.list_.append(val)\n",
    "        return res\n",
    "    def remove(self, val):\n",
    "        res = val in self.dict_\n",
    "        if res:\n",
    "            idx = self.dict_[val]\n",
    "            lastVal = self.list_[-1]\n",
    "            self.list_[idx] = lastVal\n",
    "            self.list_.pop()\n",
    "            self.dict_[lastVal] = idx\n",
    "            \n",
    "            del self.dict_[val]\n",
    "            \n",
    "        return res\n",
    "        \n",
    "    def getRandom(self):\n",
    "        return random.choice(self.list_)\n",
    "    \n",
    "    \n",
    "\n",
    "obj = RandomizedSet()\n",
    "param_1 = obj.insert(22)\n",
    "param_2 = obj.remove(21)\n",
    "param_3 = obj.getRandom()"
   ]
  },
  {
   "cell_type": "code",
   "execution_count": null,
   "id": "36f4c251",
   "metadata": {},
   "outputs": [],
   "source": []
  },
  {
   "cell_type": "markdown",
   "id": "bf492ded",
   "metadata": {},
   "source": [
    "#### 11. Container With Most Water"
   ]
  },
  {
   "cell_type": "code",
   "execution_count": 1,
   "id": "e1771a58",
   "metadata": {},
   "outputs": [],
   "source": [
    "#https://youtu.be/UuiTKBwPgAo"
   ]
  },
  {
   "cell_type": "code",
   "execution_count": 4,
   "id": "9243a271",
   "metadata": {},
   "outputs": [],
   "source": [
    "#bruteforce\n",
    "\n",
    "def maxArea(heights):\n",
    "    result = 0\n",
    "    for left in range(len(heights)):\n",
    "        for right in range(left + 1, len(heights)):\n",
    "            area = (right - left) * min(heights[left], heights[right])\n",
    "            result = max(result, area)\n",
    "            \n",
    "    return result"
   ]
  },
  {
   "cell_type": "code",
   "execution_count": 5,
   "id": "c84a20b7",
   "metadata": {},
   "outputs": [
    {
     "data": {
      "text/plain": [
       "49"
      ]
     },
     "execution_count": 5,
     "metadata": {},
     "output_type": "execute_result"
    }
   ],
   "source": [
    "maxArea([1,8,6,2,5,4,8,3,7])"
   ]
  },
  {
   "cell_type": "code",
   "execution_count": 6,
   "id": "65000b55",
   "metadata": {},
   "outputs": [
    {
     "data": {
      "text/plain": [
       "1"
      ]
     },
     "execution_count": 6,
     "metadata": {},
     "output_type": "execute_result"
    }
   ],
   "source": [
    "maxArea([1,1])"
   ]
  },
  {
   "cell_type": "code",
   "execution_count": 1,
   "id": "bb7592a4",
   "metadata": {},
   "outputs": [],
   "source": [
    "#optimal solution\n",
    "\n",
    "def maxAreaFinal(heights):\n",
    "    left = 0\n",
    "    right = len(heights) - 1\n",
    "    result = 0\n",
    "    \n",
    "    while left < right:\n",
    "        area = (right - left) * min(heights[left], heights[right])\n",
    "        result = max(result, area)\n",
    "        \n",
    "        if heights[left] < heights[right]:\n",
    "            left = left + 1\n",
    "        elif heights[left] > heights[right]:\n",
    "            right = right - 1\n",
    "        else:\n",
    "            right = right - 1\n",
    "            \n",
    "    return result"
   ]
  },
  {
   "cell_type": "code",
   "execution_count": 2,
   "id": "2b97c781",
   "metadata": {},
   "outputs": [
    {
     "data": {
      "text/plain": [
       "49"
      ]
     },
     "execution_count": 2,
     "metadata": {},
     "output_type": "execute_result"
    }
   ],
   "source": [
    "maxAreaFinal([1,8,6,2,5,4,8,3,7])"
   ]
  },
  {
   "cell_type": "code",
   "execution_count": 3,
   "id": "9a69df3f",
   "metadata": {},
   "outputs": [
    {
     "data": {
      "text/plain": [
       "1"
      ]
     },
     "execution_count": 3,
     "metadata": {},
     "output_type": "execute_result"
    }
   ],
   "source": [
    "maxAreaFinal([1,1])"
   ]
  },
  {
   "cell_type": "code",
   "execution_count": null,
   "id": "4e419d2e",
   "metadata": {},
   "outputs": [],
   "source": []
  },
  {
   "cell_type": "code",
   "execution_count": 1,
   "id": "1471805d",
   "metadata": {},
   "outputs": [],
   "source": [
    "#most efficient method\n",
    "#https://leetcode.com/problems/palindrome-number/solutions/785314/python-3-1-solution-is-89-20-faster-2nd-is-99-14-faster-explanation-added/\n",
    "\n",
    "def palindromeEfficient(number):\n",
    "    if number < 0 or (number > 0 and number % 10 == 0):\n",
    "        return False\n",
    "    \n",
    "    result = 0\n",
    "    while number > result:\n",
    "        result = result * 10 + number % 10\n",
    "        number = number // 10\n",
    "        \n",
    "    return True if ( number == result or number == result // 10 ) else False"
   ]
  },
  {
   "cell_type": "code",
   "execution_count": 2,
   "id": "485afb8b",
   "metadata": {},
   "outputs": [
    {
     "data": {
      "text/plain": [
       "True"
      ]
     },
     "execution_count": 2,
     "metadata": {},
     "output_type": "execute_result"
    }
   ],
   "source": [
    "palindromeEfficient(345543)"
   ]
  },
  {
   "cell_type": "code",
   "execution_count": 3,
   "id": "a6c07345",
   "metadata": {},
   "outputs": [
    {
     "data": {
      "text/plain": [
       "False"
      ]
     },
     "execution_count": 3,
     "metadata": {},
     "output_type": "execute_result"
    }
   ],
   "source": [
    "palindromeEfficient(123324)"
   ]
  },
  {
   "cell_type": "code",
   "execution_count": null,
   "id": "3c883b74",
   "metadata": {},
   "outputs": [],
   "source": []
  },
  {
   "cell_type": "markdown",
   "id": "e6949d45",
   "metadata": {},
   "source": [
    "##### 50. Pow(x, n)"
   ]
  },
  {
   "cell_type": "code",
   "execution_count": 2,
   "id": "d9eef413",
   "metadata": {},
   "outputs": [],
   "source": [
    "#https://www.youtube.com/watch?v=sImaLW6qrJw\n",
    "\n",
    "def myPowEff(x, n):\n",
    "    if n == 0:\n",
    "        return 1\n",
    "    \n",
    "    if n < 0:          #if n is -ve then change x to 1/x and n to +ve n\n",
    "        return myPowEff(1/x, -n)\n",
    "    \n",
    "    elif n % 2 == 0:   # if n is even then function is executed recursively 2**4 = 2**2 * 2**2 = 2**n/2 * 2**n/2\n",
    "        temp = myPowEff(x, n/2)\n",
    "        return temp * temp\n",
    "    \n",
    "    else:              # if n is odd then func is exec recusively calling {x * func(x, n-1)} \n",
    "        return x * myPowEff(x, n - 1)"
   ]
  },
  {
   "cell_type": "code",
   "execution_count": 3,
   "id": "dd243e5b",
   "metadata": {},
   "outputs": [
    {
     "data": {
      "text/plain": [
       "1024.0"
      ]
     },
     "execution_count": 3,
     "metadata": {},
     "output_type": "execute_result"
    }
   ],
   "source": [
    "myPowEff(2.00000, 10)"
   ]
  },
  {
   "cell_type": "code",
   "execution_count": 4,
   "id": "4bea4b32",
   "metadata": {},
   "outputs": [
    {
     "data": {
      "text/plain": [
       "9.261000000000001"
      ]
     },
     "execution_count": 4,
     "metadata": {},
     "output_type": "execute_result"
    }
   ],
   "source": [
    "myPowEff(2.1000, 3)"
   ]
  },
  {
   "cell_type": "code",
   "execution_count": 5,
   "id": "b1dffbc2",
   "metadata": {},
   "outputs": [
    {
     "data": {
      "text/plain": [
       "0.25"
      ]
     },
     "execution_count": 5,
     "metadata": {},
     "output_type": "execute_result"
    }
   ],
   "source": [
    "myPowEff(2.00000, -2)"
   ]
  },
  {
   "cell_type": "code",
   "execution_count": null,
   "id": "e9161d62",
   "metadata": {},
   "outputs": [],
   "source": []
  },
  {
   "cell_type": "code",
   "execution_count": null,
   "id": "bb9f93fa",
   "metadata": {},
   "outputs": [],
   "source": []
  }
 ],
 "metadata": {
  "kernelspec": {
   "display_name": "Python 3 (ipykernel)",
   "language": "python",
   "name": "python3"
  },
  "language_info": {
   "codemirror_mode": {
    "name": "ipython",
    "version": 3
   },
   "file_extension": ".py",
   "mimetype": "text/x-python",
   "name": "python",
   "nbconvert_exporter": "python",
   "pygments_lexer": "ipython3",
   "version": "3.10.9"
  }
 },
 "nbformat": 4,
 "nbformat_minor": 5
}
