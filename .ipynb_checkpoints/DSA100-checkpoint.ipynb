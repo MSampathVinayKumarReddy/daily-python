{
 "cells": [
  {
   "cell_type": "markdown",
   "id": "5965602b",
   "metadata": {},
   "source": [
    "### Arrays"
   ]
  },
  {
   "cell_type": "markdown",
   "id": "249c60ac",
   "metadata": {},
   "source": [
    "###### Write a program to reverse an array or string"
   ]
  },
  {
   "cell_type": "code",
   "execution_count": 1,
   "id": "5479794c",
   "metadata": {},
   "outputs": [],
   "source": [
    "def rev1(arr):\n",
    "    return arr[::-1]"
   ]
  },
  {
   "cell_type": "code",
   "execution_count": 2,
   "id": "b011e877",
   "metadata": {},
   "outputs": [
    {
     "data": {
      "text/plain": [
       "[5, 4, 3, 2, 1]"
      ]
     },
     "execution_count": 2,
     "metadata": {},
     "output_type": "execute_result"
    }
   ],
   "source": [
    "rev1([1,2,3,4,5])"
   ]
  },
  {
   "cell_type": "code",
   "execution_count": null,
   "id": "fc89d19e",
   "metadata": {},
   "outputs": [],
   "source": []
  },
  {
   "cell_type": "code",
   "execution_count": 1,
   "id": "cfc66bf3",
   "metadata": {},
   "outputs": [],
   "source": [
    "def rev2(arr):\n",
    "    left = 0\n",
    "    right = len(arr) - 1\n",
    "    \n",
    "    while left < right:\n",
    "        arr[left], arr[right] = arr[right], arr[left]\n",
    "        left += 1\n",
    "        right -= 1\n",
    "        \n",
    "    return arr"
   ]
  },
  {
   "cell_type": "code",
   "execution_count": 2,
   "id": "f75ccfe5",
   "metadata": {},
   "outputs": [
    {
     "data": {
      "text/plain": [
       "[5, 4, 3, 2, 1]"
      ]
     },
     "execution_count": 2,
     "metadata": {},
     "output_type": "execute_result"
    }
   ],
   "source": [
    "rev2([1,2,3,4,5])"
   ]
  },
  {
   "cell_type": "code",
   "execution_count": null,
   "id": "694a31c9",
   "metadata": {},
   "outputs": [],
   "source": []
  },
  {
   "cell_type": "code",
   "execution_count": 3,
   "id": "f5a443e7",
   "metadata": {},
   "outputs": [],
   "source": [
    "def rev3(arr):\n",
    "    left = 0\n",
    "    right = len(arr) - 1\n",
    "    \n",
    "    while left < right:\n",
    "        temp = arr[left]\n",
    "        arr[left] = arr[right]\n",
    "        arr[right] = temp\n",
    "        \n",
    "        left += 1\n",
    "        right -= 1\n",
    "        \n",
    "    return arr"
   ]
  },
  {
   "cell_type": "code",
   "execution_count": 4,
   "id": "f443fe8d",
   "metadata": {},
   "outputs": [
    {
     "data": {
      "text/plain": [
       "[8, 7, 7, 6, 54, 4, 3, 2, 1]"
      ]
     },
     "execution_count": 4,
     "metadata": {},
     "output_type": "execute_result"
    }
   ],
   "source": [
    "rev3([1,2,3,4,54,6,7,7,8])"
   ]
  },
  {
   "cell_type": "code",
   "execution_count": null,
   "id": "6488ecef",
   "metadata": {},
   "outputs": [],
   "source": []
  },
  {
   "cell_type": "markdown",
   "id": "da159b77",
   "metadata": {},
   "source": [
    "#### Find Kth smallest element in an array in linear time complexity"
   ]
  },
  {
   "cell_type": "code",
   "execution_count": 1,
   "id": "4bdb3187",
   "metadata": {},
   "outputs": [],
   "source": [
    "def kthSmallest(arr, k):\n",
    "    sorted_array = sorted(arr)\n",
    "    return sorted_array[k - 1]"
   ]
  },
  {
   "cell_type": "code",
   "execution_count": 2,
   "id": "e1d6249f",
   "metadata": {},
   "outputs": [
    {
     "data": {
      "text/plain": [
       "23"
      ]
     },
     "execution_count": 2,
     "metadata": {},
     "output_type": "execute_result"
    }
   ],
   "source": [
    "kthSmallest([4,35,6,23,5,34,23], 4)"
   ]
  },
  {
   "cell_type": "code",
   "execution_count": null,
   "id": "c76a2cb2",
   "metadata": {},
   "outputs": [],
   "source": []
  },
  {
   "cell_type": "code",
   "execution_count": 2,
   "id": "91d313d6",
   "metadata": {},
   "outputs": [],
   "source": [
    "def kthSmallest2(arr, k):\n",
    "    for i in range(0, len(arr)):\n",
    "        for j in range(i + 1, len(arr)):\n",
    "            if arr[i] > arr[j]:\n",
    "                arr[i], arr[j] = arr[j], arr[i]\n",
    "                \n",
    "    return arr, arr[k - 1]"
   ]
  },
  {
   "cell_type": "code",
   "execution_count": 6,
   "id": "28e14db8",
   "metadata": {},
   "outputs": [
    {
     "data": {
      "text/plain": [
       "([2, 23, 23, 32, 34, 34, 52, 3341, 24354], 52)"
      ]
     },
     "execution_count": 6,
     "metadata": {},
     "output_type": "execute_result"
    }
   ],
   "source": [
    "kthSmallest2([23,34,52,32,3341,2,23,24354,34], 7)"
   ]
  },
  {
   "cell_type": "code",
   "execution_count": null,
   "id": "9f3f89a2",
   "metadata": {},
   "outputs": [],
   "source": []
  }
 ],
 "metadata": {
  "kernelspec": {
   "display_name": "Python 3 (ipykernel)",
   "language": "python",
   "name": "python3"
  },
  "language_info": {
   "codemirror_mode": {
    "name": "ipython",
    "version": 3
   },
   "file_extension": ".py",
   "mimetype": "text/x-python",
   "name": "python",
   "nbconvert_exporter": "python",
   "pygments_lexer": "ipython3",
   "version": "3.9.12"
  }
 },
 "nbformat": 4,
 "nbformat_minor": 5
}
