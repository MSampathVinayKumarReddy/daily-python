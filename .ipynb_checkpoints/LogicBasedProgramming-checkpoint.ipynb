{
 "cells": [
  {
   "cell_type": "markdown",
   "id": "9c56ca43",
   "metadata": {},
   "source": [
    "###### Buy 2 Get 1, Buy 4 Get 1"
   ]
  },
  {
   "cell_type": "code",
   "execution_count": 10,
   "id": "f666b1d6",
   "metadata": {},
   "outputs": [],
   "source": [
    "# 2 + 1\n",
    "# 3 + 1\n",
    "# 4 + 2\n",
    "# 5 + 2\n",
    "# 6 + 3\n",
    "\n",
    "# 4 + 1\n",
    "# 7 + 1\n",
    "# 8 + 2\n",
    "# 11 + 2\n",
    "# 12 + 3"
   ]
  },
  {
   "cell_type": "code",
   "execution_count": 16,
   "id": "2a8a16ea",
   "metadata": {},
   "outputs": [
    {
     "name": "stdout",
     "output_type": "stream",
     "text": [
      "5\n",
      "7\n"
     ]
    }
   ],
   "source": [
    "inp = int(input())\n",
    "\n",
    "if inp:\n",
    "    print(int(inp + inp // 2))"
   ]
  },
  {
   "cell_type": "code",
   "execution_count": 17,
   "id": "8f4dee00",
   "metadata": {},
   "outputs": [
    {
     "name": "stdout",
     "output_type": "stream",
     "text": [
      "11\n",
      "13\n"
     ]
    }
   ],
   "source": [
    "inp = int(input())\n",
    "\n",
    "if inp:\n",
    "    print(int(inp + inp // 4))"
   ]
  },
  {
   "cell_type": "code",
   "execution_count": null,
   "id": "962b4c38",
   "metadata": {},
   "outputs": [],
   "source": []
  },
  {
   "cell_type": "code",
   "execution_count": 8,
   "id": "9fc72923",
   "metadata": {},
   "outputs": [
    {
     "name": "stdout",
     "output_type": "stream",
     "text": [
      "1 2 3\n",
      "6\n"
     ]
    }
   ],
   "source": [
    "a, b, c = map(int, input().split())\n",
    "\n",
    "print(a+b+c)"
   ]
  },
  {
   "cell_type": "code",
   "execution_count": null,
   "id": "28fa8ee0",
   "metadata": {},
   "outputs": [],
   "source": []
  },
  {
   "cell_type": "markdown",
   "id": "48fabb70",
   "metadata": {},
   "source": [
    "######  extract last three digits numbers from the given four digit number and calcualte sum of those three digits numbers."
   ]
  },
  {
   "cell_type": "code",
   "execution_count": 11,
   "id": "0a274275",
   "metadata": {},
   "outputs": [
    {
     "name": "stdout",
     "output_type": "stream",
     "text": [
      "1111\n",
      "3\n"
     ]
    }
   ],
   "source": [
    "n = int(input())\n",
    "\n",
    "num = n\n",
    "sol = 0\n",
    "\n",
    "while n and n // 10 != 0:\n",
    "    digit = n % 10\n",
    "    sol = sol + digit\n",
    "    n = n // 10\n",
    "    \n",
    "    \n",
    "print(sol)"
   ]
  },
  {
   "cell_type": "code",
   "execution_count": null,
   "id": "754949b7",
   "metadata": {},
   "outputs": [],
   "source": []
  },
  {
   "cell_type": "code",
   "execution_count": null,
   "id": "98ed8f94",
   "metadata": {},
   "outputs": [],
   "source": []
  },
  {
   "cell_type": "code",
   "execution_count": null,
   "id": "d6122365",
   "metadata": {},
   "outputs": [],
   "source": []
  }
 ],
 "metadata": {
  "kernelspec": {
   "display_name": "Python 3 (ipykernel)",
   "language": "python",
   "name": "python3"
  },
  "language_info": {
   "codemirror_mode": {
    "name": "ipython",
    "version": 3
   },
   "file_extension": ".py",
   "mimetype": "text/x-python",
   "name": "python",
   "nbconvert_exporter": "python",
   "pygments_lexer": "ipython3",
   "version": "3.10.9"
  }
 },
 "nbformat": 4,
 "nbformat_minor": 5
}
