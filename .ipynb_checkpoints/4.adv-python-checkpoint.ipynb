{
 "cells": [
  {
   "cell_type": "markdown",
   "id": "221dc95e",
   "metadata": {},
   "source": [
    "##### In python everything is an object"
   ]
  },
  {
   "cell_type": "markdown",
   "id": "619c9848",
   "metadata": {},
   "source": [
    "#### 9. Palindrome Number"
   ]
  },
  {
   "cell_type": "code",
   "execution_count": 5,
   "id": "c59151c9",
   "metadata": {},
   "outputs": [],
   "source": [
    "def palindrome1(num):\n",
    "    if num < 0:\n",
    "        return False\n",
    "    \n",
    "    return str(num) == str(num)[::-1]"
   ]
  },
  {
   "cell_type": "code",
   "execution_count": 7,
   "id": "9ea14ee2",
   "metadata": {},
   "outputs": [
    {
     "data": {
      "text/plain": [
       "True"
      ]
     },
     "execution_count": 7,
     "metadata": {},
     "output_type": "execute_result"
    }
   ],
   "source": [
    "palindrome1(1441)"
   ]
  },
  {
   "cell_type": "code",
   "execution_count": 8,
   "id": "254ae642",
   "metadata": {},
   "outputs": [
    {
     "data": {
      "text/plain": [
       "True"
      ]
     },
     "execution_count": 8,
     "metadata": {},
     "output_type": "execute_result"
    }
   ],
   "source": [
    "palindrome1(234432)"
   ]
  },
  {
   "cell_type": "code",
   "execution_count": 12,
   "id": "4aa8a81c",
   "metadata": {},
   "outputs": [],
   "source": [
    "def palindrome2(num):\n",
    "    if num < 0:\n",
    "        return False\n",
    "\n",
    "    inputNum = num\n",
    "    newNum = 0\n",
    "    while num > 0:\n",
    "        newNum = newNum * 10 + num % 10\n",
    "        num = num//10\n",
    "        \n",
    "    return newNum == inputNum\n",
    "        "
   ]
  },
  {
   "cell_type": "code",
   "execution_count": 13,
   "id": "828314ea",
   "metadata": {},
   "outputs": [
    {
     "data": {
      "text/plain": [
       "True"
      ]
     },
     "execution_count": 13,
     "metadata": {},
     "output_type": "execute_result"
    }
   ],
   "source": [
    "palindrome2(2345665432)"
   ]
  },
  {
   "cell_type": "code",
   "execution_count": 14,
   "id": "2cfa96be",
   "metadata": {},
   "outputs": [
    {
     "data": {
      "text/plain": [
       "False"
      ]
     },
     "execution_count": 14,
     "metadata": {},
     "output_type": "execute_result"
    }
   ],
   "source": [
    "palindrome2(12332)"
   ]
  },
  {
   "cell_type": "code",
   "execution_count": null,
   "id": "5e0814ad",
   "metadata": {},
   "outputs": [],
   "source": []
  },
  {
   "cell_type": "code",
   "execution_count": 6,
   "id": "e7ca7e81",
   "metadata": {},
   "outputs": [],
   "source": [
    "#most efficient method\n",
    "#https://leetcode.com/problems/palindrome-number/solutions/785314/python-3-1-solution-is-89-20-faster-2nd-is-99-14-faster-explanation-added/\n",
    "\n",
    "def palindromeEfficient(number):\n",
    "    if number < 0 or (number > 0 and number % 10 == 0):\n",
    "        return False\n",
    "    \n",
    "    result = 0\n",
    "    while number > result:\n",
    "        result = result * 10 + number % 10\n",
    "        number = number // 10\n",
    "        \n",
    "    return True if ( number == result or number == result // 10 ) else False"
   ]
  },
  {
   "cell_type": "code",
   "execution_count": 7,
   "id": "44a78e95",
   "metadata": {},
   "outputs": [
    {
     "data": {
      "text/plain": [
       "True"
      ]
     },
     "execution_count": 7,
     "metadata": {},
     "output_type": "execute_result"
    }
   ],
   "source": [
    "palindromeEfficient(345543)"
   ]
  },
  {
   "cell_type": "code",
   "execution_count": 8,
   "id": "4d8125a0",
   "metadata": {},
   "outputs": [
    {
     "data": {
      "text/plain": [
       "False"
      ]
     },
     "execution_count": 8,
     "metadata": {},
     "output_type": "execute_result"
    }
   ],
   "source": [
    "palindromeEfficient(123324)"
   ]
  },
  {
   "cell_type": "code",
   "execution_count": null,
   "id": "31eea4bd",
   "metadata": {},
   "outputs": [],
   "source": []
  },
  {
   "cell_type": "code",
   "execution_count": 3,
   "id": "6fff28fe",
   "metadata": {},
   "outputs": [],
   "source": [
    "def addDigits(num):\n",
    "    sol = 0\n",
    "    \n",
    "    while num > 0:\n",
    "        sol = sol + num % 10\n",
    "        num = num // 10\n",
    "        \n",
    "        if sol > 9 and num == 0:\n",
    "            num = sol\n",
    "            sol = 0\n",
    "            \n",
    "    return sol\n",
    "    "
   ]
  },
  {
   "cell_type": "code",
   "execution_count": 4,
   "id": "75ba51df",
   "metadata": {},
   "outputs": [
    {
     "data": {
      "text/plain": [
       "2"
      ]
     },
     "execution_count": 4,
     "metadata": {},
     "output_type": "execute_result"
    }
   ],
   "source": [
    "addDigits(38)"
   ]
  },
  {
   "cell_type": "code",
   "execution_count": null,
   "id": "e994821a",
   "metadata": {},
   "outputs": [],
   "source": []
  },
  {
   "cell_type": "code",
   "execution_count": null,
   "id": "88f5e1e2",
   "metadata": {},
   "outputs": [],
   "source": [
    "'aaaabbbcdd'\n",
    "'4a3b1c2d'"
   ]
  },
  {
   "cell_type": "code",
   "execution_count": 5,
   "id": "014b6ef5",
   "metadata": {},
   "outputs": [],
   "source": [
    "def stringCode(string):\n",
    "    dic = {}\n",
    "    \n",
    "    for i in string:\n",
    "        if i in dic:\n",
    "            dic[i] += 1\n",
    "        else:\n",
    "            dic[i] = 1\n",
    "    \n",
    "    return ''.join(str(v)+''+ k for k, v in dic.items())"
   ]
  },
  {
   "cell_type": "code",
   "execution_count": 6,
   "id": "cb3a58d5",
   "metadata": {},
   "outputs": [
    {
     "data": {
      "text/plain": [
       "'4a3b1c2d'"
      ]
     },
     "execution_count": 6,
     "metadata": {},
     "output_type": "execute_result"
    }
   ],
   "source": [
    "stringCode('aaaabbbcdd')"
   ]
  },
  {
   "cell_type": "code",
   "execution_count": 13,
   "id": "0698e10f",
   "metadata": {},
   "outputs": [
    {
     "name": "stdout",
     "output_type": "stream",
     "text": [
      "4a3b1c2d\n"
     ]
    }
   ],
   "source": [
    "#efficient\n",
    "\n",
    "string = 'aaaabbbcdd'\n",
    "\n",
    "result = ''\n",
    "count = 1\n",
    "\n",
    "for i in range(1, len(string)):\n",
    "    if string[i] == string[i-1]:\n",
    "        count += 1\n",
    "    else:\n",
    "        result += str(count) + string[i - 1]\n",
    "        count = 1\n",
    "\n",
    "result += str(count) + string[-1]\n",
    "    \n",
    "print(result)"
   ]
  },
  {
   "cell_type": "code",
   "execution_count": null,
   "id": "8832803e",
   "metadata": {},
   "outputs": [],
   "source": []
  },
  {
   "cell_type": "code",
   "execution_count": 16,
   "id": "2e760121",
   "metadata": {},
   "outputs": [],
   "source": [
    "def textReverse(text):\n",
    "    return ' '.join(text.split(' ')[::-1])"
   ]
  },
  {
   "cell_type": "code",
   "execution_count": 17,
   "id": "3d3472c2",
   "metadata": {},
   "outputs": [
    {
     "data": {
      "text/plain": [
       "'Blue is Sky'"
      ]
     },
     "execution_count": 17,
     "metadata": {},
     "output_type": "execute_result"
    }
   ],
   "source": [
    "textReverse('Sky is Blue')"
   ]
  },
  {
   "cell_type": "code",
   "execution_count": 23,
   "id": "cc5bb5b3",
   "metadata": {},
   "outputs": [],
   "source": [
    "def printNums(text):\n",
    "    for i in text:\n",
    "        if i.isdigit():\n",
    "            print(i, end = \" \")"
   ]
  },
  {
   "cell_type": "code",
   "execution_count": 24,
   "id": "c40cf563",
   "metadata": {},
   "outputs": [
    {
     "name": "stdout",
     "output_type": "stream",
     "text": [
      "1 2 3 4 5 6 7 8 9 "
     ]
    }
   ],
   "source": [
    "printNums('1q2w3e4r5t6y7u8i9o')"
   ]
  },
  {
   "cell_type": "code",
   "execution_count": null,
   "id": "1df69396",
   "metadata": {},
   "outputs": [],
   "source": []
  },
  {
   "cell_type": "code",
   "execution_count": 25,
   "id": "20d59106",
   "metadata": {},
   "outputs": [],
   "source": [
    "def reverseList(arr):\n",
    "    left = 0\n",
    "    right = len(arr) - 1\n",
    "    \n",
    "    while left < right:\n",
    "        arr[left], arr[right] = arr[right], arr[left]\n",
    "        left += 1\n",
    "        right -= 1\n",
    "        \n",
    "    return arr"
   ]
  },
  {
   "cell_type": "code",
   "execution_count": 26,
   "id": "937e9fd7",
   "metadata": {},
   "outputs": [
    {
     "data": {
      "text/plain": [
       "[5, 4, 3, 2, 1]"
      ]
     },
     "execution_count": 26,
     "metadata": {},
     "output_type": "execute_result"
    }
   ],
   "source": [
    "reverseList([1,2,3,4,5])"
   ]
  },
  {
   "cell_type": "code",
   "execution_count": null,
   "id": "84b6074d",
   "metadata": {},
   "outputs": [],
   "source": []
  },
  {
   "cell_type": "code",
   "execution_count": 7,
   "id": "28a577e4",
   "metadata": {},
   "outputs": [
    {
     "name": "stdout",
     "output_type": "stream",
     "text": [
      "0\n",
      "1\n",
      "1\n",
      "2\n",
      "3\n",
      "5\n",
      "8\n",
      "13\n",
      "21\n"
     ]
    }
   ],
   "source": [
    "def fib(n):\n",
    "    if n < 0 or n == 0:\n",
    "        return 0\n",
    "    elif n == 1:\n",
    "        return 1\n",
    "    else:\n",
    "        return fib(n - 1) + fib(n - 2)\n",
    "\n",
    "    \n",
    "for i in range(9):\n",
    "    print(fib(i))"
   ]
  },
  {
   "cell_type": "code",
   "execution_count": 8,
   "id": "d1609ceb",
   "metadata": {},
   "outputs": [
    {
     "data": {
      "text/plain": [
       "34"
      ]
     },
     "execution_count": 8,
     "metadata": {},
     "output_type": "execute_result"
    }
   ],
   "source": [
    "fib(9)"
   ]
  },
  {
   "cell_type": "code",
   "execution_count": null,
   "id": "f03679a3",
   "metadata": {},
   "outputs": [],
   "source": []
  },
  {
   "cell_type": "code",
   "execution_count": 1,
   "id": "296579e8",
   "metadata": {},
   "outputs": [],
   "source": [
    "def primeNumbers(m, n):\n",
    "    for num in range(m, n):\n",
    "        for i in range(2, num):\n",
    "            if num % i == 0:\n",
    "                break\n",
    "        else:\n",
    "            print(num)"
   ]
  },
  {
   "cell_type": "code",
   "execution_count": 2,
   "id": "39e36934",
   "metadata": {},
   "outputs": [
    {
     "name": "stdout",
     "output_type": "stream",
     "text": [
      "41\n",
      "43\n",
      "47\n",
      "53\n",
      "59\n"
     ]
    }
   ],
   "source": [
    "primeNumbers(40, 60)"
   ]
  },
  {
   "cell_type": "code",
   "execution_count": 11,
   "id": "03b86856",
   "metadata": {},
   "outputs": [],
   "source": [
    "def primeinBtween(m, n):\n",
    "    for num in range(m, n):\n",
    "        if all(num % i != 0 for i in range(2, num)):\n",
    "            print(num)"
   ]
  },
  {
   "cell_type": "code",
   "execution_count": 12,
   "id": "2b3d3640",
   "metadata": {},
   "outputs": [
    {
     "name": "stdout",
     "output_type": "stream",
     "text": [
      "101\n",
      "103\n",
      "107\n",
      "109\n",
      "113\n",
      "127\n",
      "131\n",
      "137\n",
      "139\n",
      "149\n",
      "151\n",
      "157\n",
      "163\n",
      "167\n",
      "173\n",
      "179\n",
      "181\n",
      "191\n",
      "193\n",
      "197\n",
      "199\n"
     ]
    }
   ],
   "source": [
    "primeinBtween(100, 200)"
   ]
  },
  {
   "cell_type": "code",
   "execution_count": null,
   "id": "6d6426ce",
   "metadata": {},
   "outputs": [],
   "source": []
  },
  {
   "cell_type": "code",
   "execution_count": 13,
   "id": "cf83a79b",
   "metadata": {},
   "outputs": [],
   "source": [
    "def pivotElement(arr):\n",
    "    for i in range(len(arr)):\n",
    "        \n",
    "        if i == 0 and sum(arr[i + 1:]) == 0:\n",
    "            return i\n",
    "        \n",
    "        elif i == len(arr) - 1 and sum(arr[:i]) == 0:\n",
    "            return i\n",
    "        \n",
    "        elif sum(arr[:i]) == sum(arr[i + 1:]):\n",
    "            return i\n",
    "        \n",
    "    return - 1"
   ]
  },
  {
   "cell_type": "code",
   "execution_count": 14,
   "id": "97b17b41",
   "metadata": {},
   "outputs": [
    {
     "data": {
      "text/plain": [
       "3"
      ]
     },
     "execution_count": 14,
     "metadata": {},
     "output_type": "execute_result"
    }
   ],
   "source": [
    "pivotElement([1,7,3,6,5,6])"
   ]
  },
  {
   "cell_type": "code",
   "execution_count": null,
   "id": "55b62e99",
   "metadata": {},
   "outputs": [],
   "source": []
  },
  {
   "cell_type": "code",
   "execution_count": 15,
   "id": "fa4f934b",
   "metadata": {},
   "outputs": [
    {
     "name": "stdout",
     "output_type": "stream",
     "text": [
      "1\n",
      "2\n",
      "3\n",
      "4\n",
      "5\n",
      "6\n"
     ]
    }
   ],
   "source": [
    "def onetoN(n):\n",
    "    if n > 0:\n",
    "        onetoN(n - 1)\n",
    "        print(n)\n",
    "        \n",
    "onetoN(6)"
   ]
  },
  {
   "cell_type": "code",
   "execution_count": 16,
   "id": "b78e6902",
   "metadata": {},
   "outputs": [
    {
     "name": "stdout",
     "output_type": "stream",
     "text": [
      "6\n",
      "5\n",
      "4\n",
      "3\n",
      "2\n",
      "1\n"
     ]
    }
   ],
   "source": [
    "def onetoN(n):\n",
    "    if n > 0:\n",
    "        print(n)\n",
    "        onetoN(n - 1)\n",
    "        \n",
    "onetoN(6)"
   ]
  },
  {
   "cell_type": "code",
   "execution_count": 18,
   "id": "9c2246b5",
   "metadata": {},
   "outputs": [
    {
     "data": {
      "text/plain": [
       "10"
      ]
     },
     "execution_count": 18,
     "metadata": {},
     "output_type": "execute_result"
    }
   ],
   "source": [
    "def sumofN(n):\n",
    "    if n == 0 or n < 0:\n",
    "        return 0\n",
    "    return n + sumofN(n - 1)\n",
    "\n",
    "sumofN(4)"
   ]
  },
  {
   "cell_type": "code",
   "execution_count": 19,
   "id": "fe25aa2a",
   "metadata": {},
   "outputs": [
    {
     "data": {
      "text/plain": [
       "6"
      ]
     },
     "execution_count": 19,
     "metadata": {},
     "output_type": "execute_result"
    }
   ],
   "source": [
    "def factorial(n):\n",
    "    if n == 0:\n",
    "        return 1\n",
    "    return n * factorial(n - 1)\n",
    "\n",
    "factorial(3)"
   ]
  },
  {
   "cell_type": "code",
   "execution_count": null,
   "id": "04c0a761",
   "metadata": {},
   "outputs": [],
   "source": []
  },
  {
   "cell_type": "code",
   "execution_count": 22,
   "id": "f1fdb196",
   "metadata": {},
   "outputs": [
    {
     "name": "stdout",
     "output_type": "stream",
     "text": [
      "[0, 0, 0, 0, 0, 1, 1, 1, 1]\n"
     ]
    }
   ],
   "source": [
    "l = [1, 0, 1, 0, 1, 0, 1]\n",
    "\n",
    "left = 0\n",
    "right = len(l) - 1\n",
    "\n",
    "while left < right:\n",
    "    if l[left] == 0:\n",
    "        left += 1\n",
    "    elif l[right] == 1:\n",
    "        right -= 1\n",
    "    else:\n",
    "        l[left], l[right] = l[right], l[left]\n",
    "        \n",
    "        \n",
    "print(l)"
   ]
  },
  {
   "cell_type": "code",
   "execution_count": null,
   "id": "fb099c8f",
   "metadata": {},
   "outputs": [],
   "source": []
  },
  {
   "cell_type": "markdown",
   "id": "468ca75b",
   "metadata": {},
   "source": [
    "###### Mutiple Conditions Handling"
   ]
  },
  {
   "cell_type": "code",
   "execution_count": 2,
   "id": "9e7f8bda",
   "metadata": {},
   "outputs": [],
   "source": [
    "# The number must be divisible by five\n",
    "# If the number is greater than 150, then skip it and move to the next number\n",
    "# If the number is greater than 500, then stop the loop"
   ]
  },
  {
   "cell_type": "code",
   "execution_count": 3,
   "id": "cce2d6b8",
   "metadata": {},
   "outputs": [],
   "source": [
    "numbers = [12, 75, 150, 180, 145, 525, 50]"
   ]
  },
  {
   "cell_type": "code",
   "execution_count": 4,
   "id": "df96c738",
   "metadata": {},
   "outputs": [
    {
     "name": "stdout",
     "output_type": "stream",
     "text": [
      "75\n",
      "150\n",
      "145\n"
     ]
    }
   ],
   "source": [
    "for num in numbers:\n",
    "    if num > 500:\n",
    "        break\n",
    "    elif num > 150:\n",
    "        continue\n",
    "    elif num % 5 == 0:\n",
    "        print(num)"
   ]
  },
  {
   "cell_type": "code",
   "execution_count": null,
   "id": "268fac97",
   "metadata": {},
   "outputs": [],
   "source": []
  },
  {
   "cell_type": "markdown",
   "id": "a7b88f4c",
   "metadata": {},
   "source": [
    "###### Printing elements from end to start in a list"
   ]
  },
  {
   "cell_type": "code",
   "execution_count": 6,
   "id": "51374f2d",
   "metadata": {},
   "outputs": [],
   "source": [
    "nums = [123,14,42,564,56,656]"
   ]
  },
  {
   "cell_type": "code",
   "execution_count": 7,
   "id": "89095426",
   "metadata": {},
   "outputs": [
    {
     "name": "stdout",
     "output_type": "stream",
     "text": [
      "656\n",
      "56\n",
      "564\n",
      "42\n",
      "14\n",
      "123\n"
     ]
    }
   ],
   "source": [
    "for i in range(len(nums)-1, -1, -1):\n",
    "    print(nums[i])"
   ]
  },
  {
   "cell_type": "code",
   "execution_count": null,
   "id": "fe2faeb2",
   "metadata": {},
   "outputs": [],
   "source": []
  },
  {
   "cell_type": "code",
   "execution_count": 8,
   "id": "1f81c4f4",
   "metadata": {},
   "outputs": [
    {
     "name": "stdout",
     "output_type": "stream",
     "text": [
      "-10\n",
      "-9\n",
      "-8\n",
      "-7\n",
      "-6\n",
      "-5\n",
      "-4\n",
      "-3\n",
      "-2\n",
      "-1\n"
     ]
    }
   ],
   "source": [
    "for i in range(-10, 0):\n",
    "    print(i)"
   ]
  },
  {
   "cell_type": "markdown",
   "id": "324067aa",
   "metadata": {},
   "source": [
    "###### print \"end\" after successful execution of a loop"
   ]
  },
  {
   "cell_type": "code",
   "execution_count": 10,
   "id": "a0478a64",
   "metadata": {},
   "outputs": [
    {
     "name": "stdout",
     "output_type": "stream",
     "text": [
      "0\n",
      "1\n",
      "2\n",
      "3\n",
      "4\n",
      "Done\n"
     ]
    }
   ],
   "source": [
    "for i in range(5):\n",
    "    print(i)\n",
    "else:\n",
    "    print(\"Done\")"
   ]
  },
  {
   "cell_type": "code",
   "execution_count": null,
   "id": "c05f61a1",
   "metadata": {},
   "outputs": [],
   "source": []
  },
  {
   "cell_type": "markdown",
   "id": "d283a3fa",
   "metadata": {},
   "source": [
    "###### patternSum function"
   ]
  },
  {
   "cell_type": "code",
   "execution_count": 1,
   "id": "c57b739a",
   "metadata": {},
   "outputs": [],
   "source": [
    "def patternSum(n, digit):\n",
    "    solution = 0\n",
    "    num = digit\n",
    "    \n",
    "    for i in range(1, n + 1):\n",
    "        print(num)\n",
    "        solution = solution + num\n",
    "        num = num * 10 + digit\n",
    "        \n",
    "    return solution"
   ]
  },
  {
   "cell_type": "code",
   "execution_count": 2,
   "id": "948bd1fa",
   "metadata": {},
   "outputs": [
    {
     "name": "stdout",
     "output_type": "stream",
     "text": [
      "6\n",
      "66\n",
      "666\n",
      "6666\n",
      "66666\n"
     ]
    },
    {
     "data": {
      "text/plain": [
       "74070"
      ]
     },
     "execution_count": 2,
     "metadata": {},
     "output_type": "execute_result"
    }
   ],
   "source": [
    "patternSum(5, 6)"
   ]
  },
  {
   "cell_type": "code",
   "execution_count": 5,
   "id": "e5a44e2c",
   "metadata": {},
   "outputs": [
    {
     "name": "stdout",
     "output_type": "stream",
     "text": [
      "4\n",
      "44\n",
      "444\n"
     ]
    },
    {
     "data": {
      "text/plain": [
       "492"
      ]
     },
     "execution_count": 5,
     "metadata": {},
     "output_type": "execute_result"
    }
   ],
   "source": [
    "patternSum(3, 4)"
   ]
  },
  {
   "cell_type": "code",
   "execution_count": null,
   "id": "48b2b21d",
   "metadata": {},
   "outputs": [],
   "source": []
  },
  {
   "cell_type": "markdown",
   "id": "0a65c81c",
   "metadata": {},
   "source": [
    "###### function aliasing"
   ]
  },
  {
   "cell_type": "code",
   "execution_count": 1,
   "id": "e207bf57",
   "metadata": {},
   "outputs": [],
   "source": [
    "def wish(name):\n",
    "    print('GoodMrng', name)"
   ]
  },
  {
   "cell_type": "code",
   "execution_count": 3,
   "id": "8b1c2dfe",
   "metadata": {},
   "outputs": [
    {
     "name": "stdout",
     "output_type": "stream",
     "text": [
      "GoodMrng sam\n"
     ]
    }
   ],
   "source": [
    "wish('sam')"
   ]
  },
  {
   "cell_type": "code",
   "execution_count": 4,
   "id": "d9626346",
   "metadata": {},
   "outputs": [],
   "source": [
    "greet = wish"
   ]
  },
  {
   "cell_type": "code",
   "execution_count": 5,
   "id": "00f49f36",
   "metadata": {},
   "outputs": [
    {
     "name": "stdout",
     "output_type": "stream",
     "text": [
      "GoodMrng sam\n"
     ]
    }
   ],
   "source": [
    "greet('sam')"
   ]
  },
  {
   "cell_type": "code",
   "execution_count": 7,
   "id": "cbdc6047",
   "metadata": {},
   "outputs": [
    {
     "name": "stdout",
     "output_type": "stream",
     "text": [
      "1718574041552\n",
      "1718574041552\n"
     ]
    }
   ],
   "source": [
    "print(id(wish))\n",
    "print(id(greet))"
   ]
  },
  {
   "cell_type": "code",
   "execution_count": 9,
   "id": "862a0632",
   "metadata": {},
   "outputs": [],
   "source": [
    "# in the above code we gave var \"greet\" is \"wish\" so now wish properties can be achieved using \"greet\"\n",
    "# both are pointing to the same function in the location\n",
    "# if we delete wish still we can use greet"
   ]
  },
  {
   "cell_type": "markdown",
   "id": "5608f6d4",
   "metadata": {},
   "source": [
    "##### Nested Functions"
   ]
  },
  {
   "cell_type": "code",
   "execution_count": 11,
   "id": "144974af",
   "metadata": {},
   "outputs": [
    {
     "name": "stdout",
     "output_type": "stream",
     "text": [
      "this is outer func START\n",
      "this is inner func\n",
      "this is inner func\n",
      "this is outer END\n"
     ]
    }
   ],
   "source": [
    "def outer():\n",
    "    print('this is outer func START')\n",
    "    \n",
    "    def inner():\n",
    "        print('this is inner func')\n",
    "    \n",
    "    inner() #calling inner\n",
    "    inner() #calling innner twice\n",
    "    \n",
    "    print('this is outer END')\n",
    "    \n",
    "outer() #calling outer"
   ]
  },
  {
   "cell_type": "code",
   "execution_count": 12,
   "id": "2b776713",
   "metadata": {},
   "outputs": [],
   "source": [
    "# we cannot call the inner func outside"
   ]
  },
  {
   "cell_type": "markdown",
   "id": "b40b843d",
   "metadata": {},
   "source": [
    "##### Calling one func from another"
   ]
  },
  {
   "cell_type": "code",
   "execution_count": 5,
   "id": "d2f89507",
   "metadata": {},
   "outputs": [],
   "source": [
    "def outside():\n",
    "    \n",
    "    def inside():\n",
    "        print('Hi Inner here')\n",
    "    \n",
    "    return inside #this returns \"inside\" output from \"outside\" func"
   ]
  },
  {
   "cell_type": "code",
   "execution_count": 6,
   "id": "14a262b9",
   "metadata": {},
   "outputs": [],
   "source": [
    "f1 = outside() # outer() func will be executed and returns inner func object for that inner func we are using f1"
   ]
  },
  {
   "cell_type": "code",
   "execution_count": 8,
   "id": "65d4e2ac",
   "metadata": {},
   "outputs": [
    {
     "name": "stdout",
     "output_type": "stream",
     "text": [
      "Hi Inner here\n"
     ]
    }
   ],
   "source": [
    "f1()"
   ]
  },
  {
   "cell_type": "code",
   "execution_count": null,
   "id": "99006f7a",
   "metadata": {},
   "outputs": [],
   "source": []
  },
  {
   "cell_type": "markdown",
   "id": "6f7fe33a",
   "metadata": {},
   "source": [
    "#### calling func from another func as argument"
   ]
  },
  {
   "cell_type": "code",
   "execution_count": 11,
   "id": "c20513df",
   "metadata": {},
   "outputs": [
    {
     "name": "stdout",
     "output_type": "stream",
     "text": [
      "f2 funcc..\n"
     ]
    }
   ],
   "source": [
    "def f1(funcc):\n",
    "    funcc()\n",
    "    \n",
    "def f2():\n",
    "    print('f2 funcc..')\n",
    "    \n",
    "    \n",
    "f1(f2)"
   ]
  },
  {
   "cell_type": "markdown",
   "id": "129c30de",
   "metadata": {},
   "source": [
    "##### Decorator Functions"
   ]
  },
  {
   "cell_type": "code",
   "execution_count": 12,
   "id": "d0c88c40",
   "metadata": {},
   "outputs": [],
   "source": [
    "# decorator func is func which take a func as arg and extends its fucntionality and returns modified func"
   ]
  },
  {
   "cell_type": "code",
   "execution_count": 14,
   "id": "4716f5e0",
   "metadata": {},
   "outputs": [
    {
     "name": "stdout",
     "output_type": "stream",
     "text": [
      "Sampath\n",
      "Vinay\n"
     ]
    }
   ],
   "source": [
    "def decor_func(func): #here func is input func which needs to modified\n",
    "    def inner_func():\n",
    "        print('Sampath')\n",
    "        print('Vinay')\n",
    "    return inner_func\n",
    "    \n",
    "@decor_func\n",
    "def actual_func():\n",
    "    print('I will not be printed')\n",
    "    \n",
    "    \n",
    "actual_func()"
   ]
  },
  {
   "cell_type": "code",
   "execution_count": 3,
   "id": "affd83e0",
   "metadata": {},
   "outputs": [],
   "source": [
    "#example2\n",
    "\n",
    "def decor_func(func):\n",
    "    def inner_func(a, b):\n",
    "        print(\"#\" * 10)\n",
    "        func(a, b)\n",
    "        print(\"#\" * 10)\n",
    "        \n",
    "    return inner_func\n",
    "        \n",
    "@decor_func     \n",
    "def actual_func(a, b):\n",
    "    print(a + b)"
   ]
  },
  {
   "cell_type": "code",
   "execution_count": 4,
   "id": "8617046b",
   "metadata": {},
   "outputs": [
    {
     "name": "stdout",
     "output_type": "stream",
     "text": [
      "##########\n",
      "30\n",
      "##########\n"
     ]
    }
   ],
   "source": [
    "actual_func(10, 20)"
   ]
  },
  {
   "cell_type": "code",
   "execution_count": 5,
   "id": "b7154dfe",
   "metadata": {},
   "outputs": [],
   "source": [
    "# above code is printing addition of two numbers \n",
    "# using decorators we added those # symbol as decoration"
   ]
  },
  {
   "cell_type": "code",
   "execution_count": null,
   "id": "4417072c",
   "metadata": {},
   "outputs": [],
   "source": []
  },
  {
   "cell_type": "code",
   "execution_count": 1,
   "id": "77524a8f",
   "metadata": {},
   "outputs": [],
   "source": [
    "#example3\n",
    "\n",
    "def decor_func(func):\n",
    "    def inner_func(name):\n",
    "        if name == 'sam':\n",
    "            print('Hello Hero Good Mrng')\n",
    "        else:\n",
    "            func(name)\n",
    "            \n",
    "    return inner_func\n",
    "\n",
    "@decor_func\n",
    "def wish(name):\n",
    "    print('GoodMrng', name)"
   ]
  },
  {
   "cell_type": "code",
   "execution_count": 3,
   "id": "5f5b906d",
   "metadata": {},
   "outputs": [
    {
     "name": "stdout",
     "output_type": "stream",
     "text": [
      "Hello Hero Good Mrng\n"
     ]
    }
   ],
   "source": [
    "wish('sam')"
   ]
  },
  {
   "cell_type": "code",
   "execution_count": 4,
   "id": "d6cfffa1",
   "metadata": {},
   "outputs": [
    {
     "name": "stdout",
     "output_type": "stream",
     "text": [
      "GoodMrng lucky\n"
     ]
    }
   ],
   "source": [
    "wish('lucky')"
   ]
  },
  {
   "cell_type": "code",
   "execution_count": null,
   "id": "bd0ebd4f",
   "metadata": {},
   "outputs": [],
   "source": []
  },
  {
   "cell_type": "code",
   "execution_count": 3,
   "id": "8f1d9397",
   "metadata": {},
   "outputs": [],
   "source": [
    "#example3\n",
    "\n",
    "def decor_func(func):\n",
    "    def inner_func(name):\n",
    "        names = ['Sam', 'vinay', 'reddy']\n",
    "        if name in names:\n",
    "            print('Hello {} Hero Good Mrng'.format(name))\n",
    "        else:\n",
    "            func(name)\n",
    "            \n",
    "    return inner_func\n",
    "\n",
    "@decor_func\n",
    "def wish(name):\n",
    "    print('GoodMrng', name)"
   ]
  },
  {
   "cell_type": "code",
   "execution_count": 5,
   "id": "bcdb8bbf",
   "metadata": {},
   "outputs": [
    {
     "name": "stdout",
     "output_type": "stream",
     "text": [
      "Hello Sam Hero Good Mrng\n"
     ]
    }
   ],
   "source": [
    "wish('Sam')"
   ]
  },
  {
   "cell_type": "code",
   "execution_count": 6,
   "id": "b472463b",
   "metadata": {},
   "outputs": [
    {
     "name": "stdout",
     "output_type": "stream",
     "text": [
      "GoodMrng others\n"
     ]
    }
   ],
   "source": [
    "wish('others')"
   ]
  },
  {
   "cell_type": "code",
   "execution_count": null,
   "id": "9e9d58aa",
   "metadata": {},
   "outputs": [],
   "source": []
  },
  {
   "cell_type": "code",
   "execution_count": 2,
   "id": "751040b6",
   "metadata": {},
   "outputs": [],
   "source": [
    "def decor_func(func):\n",
    "    def inner_func(a, b):\n",
    "        if b == 0:\n",
    "            print('idiot this cannot happen')\n",
    "        else:\n",
    "            func(a, b)\n",
    "            \n",
    "    return inner_func\n",
    "\n",
    "@decor_func\n",
    "def div(a, b):\n",
    "    print(a/b)"
   ]
  },
  {
   "cell_type": "code",
   "execution_count": 4,
   "id": "43a1b49e",
   "metadata": {},
   "outputs": [
    {
     "name": "stdout",
     "output_type": "stream",
     "text": [
      "5.0\n"
     ]
    }
   ],
   "source": [
    "div(10, 2)"
   ]
  },
  {
   "cell_type": "code",
   "execution_count": 6,
   "id": "cef38cfc",
   "metadata": {},
   "outputs": [
    {
     "name": "stdout",
     "output_type": "stream",
     "text": [
      "idiot this cannot happen\n"
     ]
    }
   ],
   "source": [
    "div(10, 0) # without the decor we would've got ZeroDivison error"
   ]
  },
  {
   "cell_type": "code",
   "execution_count": null,
   "id": "3f4155b4",
   "metadata": {},
   "outputs": [],
   "source": []
  },
  {
   "cell_type": "code",
   "execution_count": 14,
   "id": "5435b2b8",
   "metadata": {},
   "outputs": [],
   "source": [
    "# calling same func with or without decorator\n",
    "\n",
    "\n",
    "def decor_func(func):\n",
    "    def inner_func(name):\n",
    "        if (name == 'sam'):\n",
    "            print('Have a good Mrng Sir')\n",
    "        else:\n",
    "            func(name)\n",
    "            \n",
    "    return inner_func\n",
    "        \n",
    "def wish(name):\n",
    "    print('Gd Mrng', name)"
   ]
  },
  {
   "cell_type": "code",
   "execution_count": 15,
   "id": "feb67652",
   "metadata": {},
   "outputs": [
    {
     "name": "stdout",
     "output_type": "stream",
     "text": [
      "Have a good Mrng Sir\n",
      "Gd Mrng ajay\n",
      "Gd Mrng reddyy\n"
     ]
    }
   ],
   "source": [
    "decor_wish = decor_func(wish)\n",
    "\n",
    "decor_wish('sam')\n",
    "decor_wish('ajay')\n",
    "decor_wish('reddyy')"
   ]
  },
  {
   "cell_type": "code",
   "execution_count": null,
   "id": "0851d366",
   "metadata": {},
   "outputs": [],
   "source": []
  },
  {
   "cell_type": "markdown",
   "id": "6e8dee7c",
   "metadata": {},
   "source": [
    "#### Decorator Chaining"
   ]
  },
  {
   "cell_type": "code",
   "execution_count": 22,
   "id": "b8b1f49f",
   "metadata": {},
   "outputs": [],
   "source": [
    "def decor1(func):\n",
    "    def inner_funct():\n",
    "        print('decor 1....yooo')\n",
    "    return inner_funct\n",
    "\n",
    "\n",
    "def decor2(func):\n",
    "    def inner_funct2():\n",
    "        print('decor 2 ....haha')\n",
    "    return inner_funct2\n",
    "\n",
    "@decor2\n",
    "@decor1 #this is nearest to actual func, so this gonna execute first then give output to decor 2\n",
    "def f1():\n",
    "    print('Actual Function')"
   ]
  },
  {
   "cell_type": "code",
   "execution_count": 23,
   "id": "73637b09",
   "metadata": {},
   "outputs": [
    {
     "name": "stdout",
     "output_type": "stream",
     "text": [
      "decor 2 ....haha\n"
     ]
    }
   ],
   "source": [
    "f1()"
   ]
  },
  {
   "cell_type": "code",
   "execution_count": 24,
   "id": "492bf017",
   "metadata": {},
   "outputs": [],
   "source": [
    "#the code execution is decor1--->output---->decor2---->output(this is printed finally)"
   ]
  },
  {
   "cell_type": "code",
   "execution_count": null,
   "id": "28daf092",
   "metadata": {},
   "outputs": [],
   "source": []
  },
  {
   "cell_type": "code",
   "execution_count": 3,
   "id": "056ac5af",
   "metadata": {},
   "outputs": [
    {
     "name": "stdout",
     "output_type": "stream",
     "text": [
      "400\n"
     ]
    }
   ],
   "source": [
    "def decor1(func):\n",
    "    def inner1():\n",
    "        x = func()\n",
    "        return x * x\n",
    "    return inner1\n",
    "\n",
    "def decor2(func):\n",
    "    def inner2():\n",
    "        x = func()\n",
    "        return x / 2\n",
    "    return inner2\n",
    "\n",
    "@decor1\n",
    "def num():\n",
    "    return 20\n",
    "\n",
    "\n",
    "print(num())"
   ]
  },
  {
   "cell_type": "code",
   "execution_count": 4,
   "id": "a086c271",
   "metadata": {},
   "outputs": [
    {
     "name": "stdout",
     "output_type": "stream",
     "text": [
      "10.0\n"
     ]
    }
   ],
   "source": [
    "def decor1(func):\n",
    "    def inner1():\n",
    "        x = func()\n",
    "        return x * x\n",
    "    return inner1\n",
    "\n",
    "def decor2(func):\n",
    "    def inner2():\n",
    "        x = func()\n",
    "        return x / 2\n",
    "    return inner2\n",
    "\n",
    "@decor2\n",
    "def num():\n",
    "    return 20\n",
    "\n",
    "\n",
    "print(num())"
   ]
  },
  {
   "cell_type": "code",
   "execution_count": 5,
   "id": "dbe70c78",
   "metadata": {},
   "outputs": [
    {
     "name": "stdout",
     "output_type": "stream",
     "text": [
      "200.0\n"
     ]
    }
   ],
   "source": [
    "def decor1(func):\n",
    "    def inner1():\n",
    "        x = func()\n",
    "        return x * x\n",
    "    return inner1\n",
    "\n",
    "def decor2(func):\n",
    "    def inner2():\n",
    "        x = func()\n",
    "        return x / 2\n",
    "    return inner2\n",
    "\n",
    "@decor2\n",
    "@decor1\n",
    "def num():\n",
    "    return 20\n",
    "\n",
    "\n",
    "print(num())"
   ]
  },
  {
   "cell_type": "code",
   "execution_count": 6,
   "id": "647aa24c",
   "metadata": {},
   "outputs": [
    {
     "name": "stdout",
     "output_type": "stream",
     "text": [
      "100.0\n"
     ]
    }
   ],
   "source": [
    "def decor1(func):\n",
    "    def inner1():\n",
    "        x = func()\n",
    "        return x * x\n",
    "    return inner1\n",
    "\n",
    "def decor2(func):\n",
    "    def inner2():\n",
    "        x = func()\n",
    "        return x / 2\n",
    "    return inner2\n",
    "\n",
    "@decor1\n",
    "@decor2\n",
    "def num():\n",
    "    return 20\n",
    "\n",
    "\n",
    "print(num())"
   ]
  },
  {
   "cell_type": "code",
   "execution_count": null,
   "id": "65e7c6c4",
   "metadata": {},
   "outputs": [],
   "source": []
  },
  {
   "cell_type": "markdown",
   "id": "394bb40a",
   "metadata": {},
   "source": [
    "#### Generators\n",
    "###### it a normal function with \"yield\" keyword\n",
    "###### used to generate a sequence of values"
   ]
  },
  {
   "cell_type": "code",
   "execution_count": 1,
   "id": "9d1c27b1",
   "metadata": {},
   "outputs": [],
   "source": [
    "# lists will store the data in memory\n",
    "# for ex: [x*x for x in range(100000000)] 1 core values cannot fit into memory"
   ]
  },
  {
   "cell_type": "code",
   "execution_count": null,
   "id": "243bd485",
   "metadata": {},
   "outputs": [],
   "source": [
    "# generator will not store data in memory (it process on the go)\n",
    "# for ex: g = (x*x for x in range(100000000))\n",
    "#          while True:\n",
    "#              print(next(g))"
   ]
  },
  {
   "cell_type": "markdown",
   "id": "a2fb21c7",
   "metadata": {},
   "source": [
    "#### Basic Generator"
   ]
  },
  {
   "cell_type": "code",
   "execution_count": 2,
   "id": "7b795132",
   "metadata": {},
   "outputs": [],
   "source": [
    "def gen_func():\n",
    "    yield 'A'\n",
    "    yield 'B'\n",
    "    yield 'C'"
   ]
  },
  {
   "cell_type": "code",
   "execution_count": 4,
   "id": "608741c4",
   "metadata": {},
   "outputs": [
    {
     "name": "stdout",
     "output_type": "stream",
     "text": [
      "A\n",
      "B\n",
      "C\n"
     ]
    }
   ],
   "source": [
    "#method-1\n",
    "g = gen_func()\n",
    "\n",
    "for i in g:\n",
    "    print(i)"
   ]
  },
  {
   "cell_type": "code",
   "execution_count": 8,
   "id": "4ea3cc5b",
   "metadata": {},
   "outputs": [
    {
     "name": "stdout",
     "output_type": "stream",
     "text": [
      "A\n",
      "B\n",
      "C\n"
     ]
    }
   ],
   "source": [
    "#method-2\n",
    "g = gen_func()\n",
    "\n",
    "print(next(g))\n",
    "print(next(g))\n",
    "print(next(g))"
   ]
  },
  {
   "cell_type": "code",
   "execution_count": null,
   "id": "9f6eb56d",
   "metadata": {},
   "outputs": [],
   "source": []
  },
  {
   "cell_type": "code",
   "execution_count": 9,
   "id": "cde2201a",
   "metadata": {},
   "outputs": [],
   "source": [
    "def printFirstTenNums(n):\n",
    "    i = 1\n",
    "    while i <= n:\n",
    "        yield i\n",
    "        i += 1"
   ]
  },
  {
   "cell_type": "code",
   "execution_count": 10,
   "id": "142c2b41",
   "metadata": {},
   "outputs": [
    {
     "name": "stdout",
     "output_type": "stream",
     "text": [
      "1\n",
      "2\n",
      "3\n",
      "4\n",
      "5\n",
      "6\n",
      "7\n",
      "8\n",
      "9\n",
      "10\n"
     ]
    }
   ],
   "source": [
    "gg = printFirstTenNums(10)\n",
    "\n",
    "for i in gg:\n",
    "    print(i)"
   ]
  },
  {
   "cell_type": "code",
   "execution_count": null,
   "id": "9b2bc79d",
   "metadata": {},
   "outputs": [],
   "source": []
  },
  {
   "cell_type": "code",
   "execution_count": 11,
   "id": "df702e57",
   "metadata": {},
   "outputs": [],
   "source": [
    "def fibonaciGenerator():\n",
    "    a, b = 0, 1\n",
    "    \n",
    "    while True:\n",
    "        yield a\n",
    "        a, b = b, a + b"
   ]
  },
  {
   "cell_type": "code",
   "execution_count": 14,
   "id": "96bba720",
   "metadata": {},
   "outputs": [
    {
     "name": "stdout",
     "output_type": "stream",
     "text": [
      "0\n",
      "1\n",
      "1\n",
      "2\n",
      "3\n",
      "5\n",
      "8\n",
      "13\n"
     ]
    }
   ],
   "source": [
    "ggg = fibonaciGenerator() #this runs infinite times \n",
    "for x in ggg:\n",
    "    if x <= 15:           # we are taking only values below 15\n",
    "        print(x)\n",
    "    else:\n",
    "        break"
   ]
  },
  {
   "cell_type": "code",
   "execution_count": null,
   "id": "8f9fb200",
   "metadata": {},
   "outputs": [],
   "source": []
  }
 ],
 "metadata": {
  "kernelspec": {
   "display_name": "Python 3 (ipykernel)",
   "language": "python",
   "name": "python3"
  },
  "language_info": {
   "codemirror_mode": {
    "name": "ipython",
    "version": 3
   },
   "file_extension": ".py",
   "mimetype": "text/x-python",
   "name": "python",
   "nbconvert_exporter": "python",
   "pygments_lexer": "ipython3",
   "version": "3.10.9"
  }
 },
 "nbformat": 4,
 "nbformat_minor": 5
}
