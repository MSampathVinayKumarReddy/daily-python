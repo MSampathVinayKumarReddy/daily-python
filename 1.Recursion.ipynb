{
 "cells": [
  {
   "cell_type": "markdown",
   "id": "98050524",
   "metadata": {},
   "source": [
    "##### Print 1 To N Without Loop"
   ]
  },
  {
   "cell_type": "code",
   "execution_count": 1,
   "id": "9ee8e637",
   "metadata": {},
   "outputs": [],
   "source": [
    "def one_to_n(num):\n",
    "    if num > 0:\n",
    "        one_to_n(num - 1)\n",
    "        print(num)"
   ]
  },
  {
   "cell_type": "code",
   "execution_count": 2,
   "id": "573a01f6",
   "metadata": {},
   "outputs": [
    {
     "name": "stdout",
     "output_type": "stream",
     "text": [
      "1\n",
      "2\n",
      "3\n",
      "4\n",
      "5\n"
     ]
    }
   ],
   "source": [
    "one_to_n(5)"
   ]
  },
  {
   "cell_type": "code",
   "execution_count": 15,
   "id": "b65925f5",
   "metadata": {},
   "outputs": [],
   "source": [
    "def n_times(n):\n",
    "    if n==0:\n",
    "        return\n",
    "    print('sam', end=\" \")\n",
    "    return (n_times(n-1))"
   ]
  },
  {
   "cell_type": "code",
   "execution_count": 17,
   "id": "a9e2c63e",
   "metadata": {},
   "outputs": [
    {
     "name": "stdout",
     "output_type": "stream",
     "text": [
      "sam sam sam sam sam sam sam "
     ]
    }
   ],
   "source": [
    "n_times(7)"
   ]
  },
  {
   "cell_type": "markdown",
   "id": "f3d90a72",
   "metadata": {},
   "source": [
    "##### \tPrint N to 1 using recursion"
   ]
  },
  {
   "cell_type": "code",
   "execution_count": 1,
   "id": "19249dfd",
   "metadata": {},
   "outputs": [],
   "source": [
    "def n_to_one(n):\n",
    "    if n > 0:\n",
    "        print(n)\n",
    "        n_to_one(n - 1)"
   ]
  },
  {
   "cell_type": "code",
   "execution_count": 3,
   "id": "27a549f9",
   "metadata": {},
   "outputs": [
    {
     "name": "stdout",
     "output_type": "stream",
     "text": [
      "5\n",
      "4\n",
      "3\n",
      "2\n",
      "1\n"
     ]
    }
   ],
   "source": [
    "n_to_one(5)"
   ]
  },
  {
   "cell_type": "markdown",
   "id": "c349b46e",
   "metadata": {},
   "source": [
    "##### Sum of Numbers"
   ]
  },
  {
   "cell_type": "code",
   "execution_count": 1,
   "id": "c1c21e42",
   "metadata": {},
   "outputs": [],
   "source": [
    "def sum_of_n_number(n):\n",
    "    if not n:\n",
    "        return n\n",
    "    return n + sum_of_n_number(n-1)"
   ]
  },
  {
   "cell_type": "code",
   "execution_count": 2,
   "id": "e6e260c2",
   "metadata": {},
   "outputs": [
    {
     "data": {
      "text/plain": [
       "15"
      ]
     },
     "execution_count": 2,
     "metadata": {},
     "output_type": "execute_result"
    }
   ],
   "source": [
    "sum_of_n_number(5)"
   ]
  },
  {
   "cell_type": "code",
   "execution_count": 4,
   "id": "c021acee",
   "metadata": {},
   "outputs": [
    {
     "data": {
      "text/plain": [
       "3"
      ]
     },
     "execution_count": 4,
     "metadata": {},
     "output_type": "execute_result"
    }
   ],
   "source": [
    "sum_of_n_number(2)"
   ]
  },
  {
   "cell_type": "markdown",
   "id": "1afbcae3",
   "metadata": {},
   "source": [
    "##### Factorial"
   ]
  },
  {
   "cell_type": "code",
   "execution_count": 14,
   "id": "4e6f0360",
   "metadata": {},
   "outputs": [],
   "source": [
    "def fact(n):\n",
    "    if n==0:\n",
    "        return 1\n",
    "    else:\n",
    "        fact(n-1)\n",
    "        return n*fact(n-1)"
   ]
  },
  {
   "cell_type": "code",
   "execution_count": 16,
   "id": "9e3369bd",
   "metadata": {},
   "outputs": [
    {
     "data": {
      "text/plain": [
       "6"
      ]
     },
     "execution_count": 16,
     "metadata": {},
     "output_type": "execute_result"
    }
   ],
   "source": [
    "fact(3)"
   ]
  },
  {
   "cell_type": "code",
   "execution_count": 6,
   "id": "693eb1c6",
   "metadata": {},
   "outputs": [],
   "source": [
    "def fact2(n):\n",
    "    if not n:\n",
    "        return 1\n",
    "    else:\n",
    "        return n * fact2(n - 1)"
   ]
  },
  {
   "cell_type": "code",
   "execution_count": 7,
   "id": "6a0beafb",
   "metadata": {},
   "outputs": [
    {
     "data": {
      "text/plain": [
       "6"
      ]
     },
     "execution_count": 7,
     "metadata": {},
     "output_type": "execute_result"
    }
   ],
   "source": [
    "fact2(3)"
   ]
  },
  {
   "cell_type": "code",
   "execution_count": 9,
   "id": "79832dab",
   "metadata": {},
   "outputs": [
    {
     "data": {
      "text/plain": [
       "120"
      ]
     },
     "execution_count": 9,
     "metadata": {},
     "output_type": "execute_result"
    }
   ],
   "source": [
    "fact2(5)"
   ]
  },
  {
   "cell_type": "code",
   "execution_count": null,
   "id": "aea951e3",
   "metadata": {},
   "outputs": [],
   "source": []
  },
  {
   "cell_type": "markdown",
   "id": "d10fcc7d",
   "metadata": {},
   "source": [
    "#### Palindrome or Not"
   ]
  },
  {
   "cell_type": "code",
   "execution_count": 1,
   "id": "3d0c4a81",
   "metadata": {},
   "outputs": [],
   "source": [
    "def isPalindrome(s):\n",
    "    newStr = \"\"\n",
    "    for char in s:\n",
    "        if char.isalnum():\n",
    "            newStr = newStr + char.lower()\n",
    "    return newStr == newStr[::-1]"
   ]
  },
  {
   "cell_type": "code",
   "execution_count": 2,
   "id": "f5f112a2",
   "metadata": {},
   "outputs": [
    {
     "data": {
      "text/plain": [
       "True"
      ]
     },
     "execution_count": 2,
     "metadata": {},
     "output_type": "execute_result"
    }
   ],
   "source": [
    "isPalindrome(\"A man, a plan, a canal: Panama\")"
   ]
  },
  {
   "cell_type": "code",
   "execution_count": 3,
   "id": "b9f65b17",
   "metadata": {},
   "outputs": [
    {
     "data": {
      "text/plain": [
       "False"
      ]
     },
     "execution_count": 3,
     "metadata": {},
     "output_type": "execute_result"
    }
   ],
   "source": [
    "isPalindrome(\"race a car\")"
   ]
  },
  {
   "cell_type": "code",
   "execution_count": 4,
   "id": "028f0708",
   "metadata": {},
   "outputs": [
    {
     "data": {
      "text/plain": [
       "True"
      ]
     },
     "execution_count": 4,
     "metadata": {},
     "output_type": "execute_result"
    }
   ],
   "source": [
    "isPalindrome(\"abcdcba\")"
   ]
  },
  {
   "cell_type": "code",
   "execution_count": null,
   "id": "13846376",
   "metadata": {},
   "outputs": [],
   "source": []
  },
  {
   "cell_type": "markdown",
   "id": "2d40c403",
   "metadata": {},
   "source": [
    "#### 50. Pow(x, n)"
   ]
  },
  {
   "cell_type": "code",
   "execution_count": 2,
   "id": "47f479ce",
   "metadata": {},
   "outputs": [],
   "source": [
    "def powerEff(x, n):\n",
    "    if n == 0:\n",
    "        return 1\n",
    "    elif n < 0:\n",
    "        return powerEff(1/x, -n)\n",
    "    else:\n",
    "        return x * powerEff(x, n - 1)"
   ]
  },
  {
   "cell_type": "code",
   "execution_count": 3,
   "id": "d3ba73fc",
   "metadata": {},
   "outputs": [
    {
     "data": {
      "text/plain": [
       "9.261000000000001"
      ]
     },
     "execution_count": 3,
     "metadata": {},
     "output_type": "execute_result"
    }
   ],
   "source": [
    "powerEff(2.100, 3)"
   ]
  },
  {
   "cell_type": "code",
   "execution_count": 4,
   "id": "3186c0f4",
   "metadata": {},
   "outputs": [
    {
     "data": {
      "text/plain": [
       "243"
      ]
     },
     "execution_count": 4,
     "metadata": {},
     "output_type": "execute_result"
    }
   ],
   "source": [
    "powerEff(3, 5)"
   ]
  },
  {
   "cell_type": "code",
   "execution_count": null,
   "id": "4b8bce0b",
   "metadata": {},
   "outputs": [],
   "source": []
  },
  {
   "cell_type": "code",
   "execution_count": 5,
   "id": "24375b9d",
   "metadata": {},
   "outputs": [],
   "source": [
    "def powerEff2(x, n):\n",
    "    if n == 0:\n",
    "        return 1\n",
    "    elif n < 0:\n",
    "        return powerEff2(1/n, -n)\n",
    "    elif n % 2 == 0:\n",
    "        temp = powerEff2(x, n / 2)\n",
    "        return temp * temp\n",
    "    else:\n",
    "        return x * powerEff2(x, n - 1)"
   ]
  },
  {
   "cell_type": "code",
   "execution_count": 6,
   "id": "ff331001",
   "metadata": {},
   "outputs": [
    {
     "data": {
      "text/plain": [
       "9.261000000000001"
      ]
     },
     "execution_count": 6,
     "metadata": {},
     "output_type": "execute_result"
    }
   ],
   "source": [
    "powerEff2(2.100, 3)"
   ]
  },
  {
   "cell_type": "code",
   "execution_count": 7,
   "id": "a6e6a217",
   "metadata": {},
   "outputs": [
    {
     "data": {
      "text/plain": [
       "243"
      ]
     },
     "execution_count": 7,
     "metadata": {},
     "output_type": "execute_result"
    }
   ],
   "source": [
    "powerEff2(3, 5)"
   ]
  },
  {
   "cell_type": "code",
   "execution_count": null,
   "id": "21132b61",
   "metadata": {},
   "outputs": [],
   "source": []
  }
 ],
 "metadata": {
  "kernelspec": {
   "display_name": "Python 3 (ipykernel)",
   "language": "python",
   "name": "python3"
  },
  "language_info": {
   "codemirror_mode": {
    "name": "ipython",
    "version": 3
   },
   "file_extension": ".py",
   "mimetype": "text/x-python",
   "name": "python",
   "nbconvert_exporter": "python",
   "pygments_lexer": "ipython3",
   "version": "3.10.9"
  }
 },
 "nbformat": 4,
 "nbformat_minor": 5
}
