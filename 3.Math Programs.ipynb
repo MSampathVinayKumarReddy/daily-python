{
 "cells": [
  {
   "cell_type": "markdown",
   "id": "7f0ce5c7",
   "metadata": {},
   "source": [
    "## Maths"
   ]
  },
  {
   "cell_type": "code",
   "execution_count": 27,
   "id": "6b2eef30",
   "metadata": {},
   "outputs": [
    {
     "data": {
      "text/plain": [
       "1234"
      ]
     },
     "execution_count": 27,
     "metadata": {},
     "output_type": "execute_result"
    }
   ],
   "source": [
    "12345//10"
   ]
  },
  {
   "cell_type": "code",
   "execution_count": 28,
   "id": "a0f2aa11",
   "metadata": {},
   "outputs": [
    {
     "data": {
      "text/plain": [
       "5"
      ]
     },
     "execution_count": 28,
     "metadata": {},
     "output_type": "execute_result"
    }
   ],
   "source": [
    "12345%10"
   ]
  },
  {
   "cell_type": "markdown",
   "id": "e79ccf12",
   "metadata": {},
   "source": [
    "#### Count of Digits"
   ]
  },
  {
   "cell_type": "code",
   "execution_count": 7,
   "id": "921d52d3",
   "metadata": {},
   "outputs": [],
   "source": [
    "def count_of_digits(n):\n",
    "    x = n\n",
    "    count = 0\n",
    "    while (x!=0):\n",
    "        x = x//10\n",
    "        count = count + 1\n",
    "        \n",
    "    return count"
   ]
  },
  {
   "cell_type": "code",
   "execution_count": 8,
   "id": "557ef756",
   "metadata": {},
   "outputs": [
    {
     "data": {
      "text/plain": [
       "5"
      ]
     },
     "execution_count": 8,
     "metadata": {},
     "output_type": "execute_result"
    }
   ],
   "source": [
    "count_of_digits(16253)"
   ]
  },
  {
   "cell_type": "code",
   "execution_count": 9,
   "id": "b24a83fc",
   "metadata": {},
   "outputs": [
    {
     "data": {
      "text/plain": [
       "8"
      ]
     },
     "execution_count": 9,
     "metadata": {},
     "output_type": "execute_result"
    }
   ],
   "source": [
    "count_of_digits(27436345)"
   ]
  },
  {
   "cell_type": "code",
   "execution_count": 10,
   "id": "d2c087fc",
   "metadata": {},
   "outputs": [
    {
     "data": {
      "text/plain": [
       "11"
      ]
     },
     "execution_count": 10,
     "metadata": {},
     "output_type": "execute_result"
    }
   ],
   "source": [
    "count_of_digits(12345678910)"
   ]
  },
  {
   "cell_type": "code",
   "execution_count": null,
   "id": "55b4eccf",
   "metadata": {},
   "outputs": [],
   "source": []
  },
  {
   "cell_type": "code",
   "execution_count": 11,
   "id": "0fa690c5",
   "metadata": {},
   "outputs": [],
   "source": [
    "def count_of_digits2(n):\n",
    "    strr = str(n)\n",
    "    return len(strr)"
   ]
  },
  {
   "cell_type": "code",
   "execution_count": 12,
   "id": "ba2b5e7b",
   "metadata": {},
   "outputs": [
    {
     "data": {
      "text/plain": [
       "6"
      ]
     },
     "execution_count": 12,
     "metadata": {},
     "output_type": "execute_result"
    }
   ],
   "source": [
    "count_of_digits2(182636)"
   ]
  },
  {
   "cell_type": "code",
   "execution_count": 13,
   "id": "1662ec74",
   "metadata": {},
   "outputs": [
    {
     "data": {
      "text/plain": [
       "5"
      ]
     },
     "execution_count": 13,
     "metadata": {},
     "output_type": "execute_result"
    }
   ],
   "source": [
    "count_of_digits2(32546)"
   ]
  },
  {
   "cell_type": "code",
   "execution_count": 16,
   "id": "654dbb65",
   "metadata": {},
   "outputs": [
    {
     "data": {
      "text/plain": [
       "2"
      ]
     },
     "execution_count": 16,
     "metadata": {},
     "output_type": "execute_result"
    }
   ],
   "source": [
    "count_of_digits2(32)"
   ]
  },
  {
   "cell_type": "markdown",
   "id": "2ff9a203",
   "metadata": {},
   "source": [
    "#### Reverse a Number"
   ]
  },
  {
   "cell_type": "code",
   "execution_count": 4,
   "id": "3933fbeb",
   "metadata": {},
   "outputs": [],
   "source": [
    "def rev_number(n):\n",
    "    x = n\n",
    "    reverse = 0\n",
    "    while x!=0:\n",
    "        digit = x%10\n",
    "        x = x//10\n",
    "        reverse = reverse*10 + digit\n",
    "        \n",
    "    return reverse"
   ]
  },
  {
   "cell_type": "code",
   "execution_count": 5,
   "id": "e63dfc05",
   "metadata": {},
   "outputs": [
    {
     "data": {
      "text/plain": [
       "54321"
      ]
     },
     "execution_count": 5,
     "metadata": {},
     "output_type": "execute_result"
    }
   ],
   "source": [
    "rev_number(12345)"
   ]
  },
  {
   "cell_type": "code",
   "execution_count": 6,
   "id": "01a6ad98",
   "metadata": {},
   "outputs": [
    {
     "data": {
      "text/plain": [
       "12345"
      ]
     },
     "execution_count": 6,
     "metadata": {},
     "output_type": "execute_result"
    }
   ],
   "source": [
    "rev_number(54321)"
   ]
  },
  {
   "cell_type": "code",
   "execution_count": 7,
   "id": "f3b96028",
   "metadata": {},
   "outputs": [
    {
     "name": "stdout",
     "output_type": "stream",
     "text": [
      "12345\n"
     ]
    }
   ],
   "source": [
    "print(str(54321)[::-1])"
   ]
  },
  {
   "cell_type": "code",
   "execution_count": null,
   "id": "3ff8866d",
   "metadata": {},
   "outputs": [],
   "source": []
  },
  {
   "cell_type": "markdown",
   "id": "345548cf",
   "metadata": {},
   "source": [
    "#### check if Palindrome"
   ]
  },
  {
   "cell_type": "code",
   "execution_count": 1,
   "id": "c609ea59",
   "metadata": {},
   "outputs": [],
   "source": [
    "def palindrome(n):\n",
    "    x = n\n",
    "    reverse = 0\n",
    "    while x!=0:\n",
    "        digit = x % 10\n",
    "        x = x//10\n",
    "        reverse = reverse*10 + digit\n",
    "        \n",
    "    return True if n==reverse else False"
   ]
  },
  {
   "cell_type": "code",
   "execution_count": 2,
   "id": "694b55f2",
   "metadata": {},
   "outputs": [
    {
     "data": {
      "text/plain": [
       "True"
      ]
     },
     "execution_count": 2,
     "metadata": {},
     "output_type": "execute_result"
    }
   ],
   "source": [
    "palindrome(121)"
   ]
  },
  {
   "cell_type": "code",
   "execution_count": 3,
   "id": "52ded736",
   "metadata": {},
   "outputs": [
    {
     "data": {
      "text/plain": [
       "False"
      ]
     },
     "execution_count": 3,
     "metadata": {},
     "output_type": "execute_result"
    }
   ],
   "source": [
    "palindrome(1234)"
   ]
  },
  {
   "cell_type": "code",
   "execution_count": 5,
   "id": "ee98b3c4",
   "metadata": {},
   "outputs": [
    {
     "data": {
      "text/plain": [
       "True"
      ]
     },
     "execution_count": 5,
     "metadata": {},
     "output_type": "execute_result"
    }
   ],
   "source": [
    "palindrome(666)"
   ]
  },
  {
   "cell_type": "code",
   "execution_count": null,
   "id": "299cadab",
   "metadata": {},
   "outputs": [],
   "source": []
  },
  {
   "cell_type": "markdown",
   "id": "58fb496c",
   "metadata": {},
   "source": [
    "#### Armstrong Number"
   ]
  },
  {
   "cell_type": "code",
   "execution_count": 1,
   "id": "13eaf5ac",
   "metadata": {},
   "outputs": [],
   "source": [
    "def armstrong(n):\n",
    "    x = n\n",
    "    summ = 0\n",
    "    while x!=0:\n",
    "        digit = x % 10\n",
    "        summ = summ + digit**len(str(n))\n",
    "        x = x//10\n",
    "    return True if n==summ else False"
   ]
  },
  {
   "cell_type": "code",
   "execution_count": 2,
   "id": "c343c226",
   "metadata": {},
   "outputs": [
    {
     "data": {
      "text/plain": [
       "True"
      ]
     },
     "execution_count": 2,
     "metadata": {},
     "output_type": "execute_result"
    }
   ],
   "source": [
    "armstrong(153)"
   ]
  },
  {
   "cell_type": "code",
   "execution_count": 3,
   "id": "b5cac4b1",
   "metadata": {},
   "outputs": [
    {
     "data": {
      "text/plain": [
       "False"
      ]
     },
     "execution_count": 3,
     "metadata": {},
     "output_type": "execute_result"
    }
   ],
   "source": [
    "armstrong(121)"
   ]
  },
  {
   "cell_type": "code",
   "execution_count": 4,
   "id": "57990ca3",
   "metadata": {},
   "outputs": [
    {
     "data": {
      "text/plain": [
       "True"
      ]
     },
     "execution_count": 4,
     "metadata": {},
     "output_type": "execute_result"
    }
   ],
   "source": [
    "armstrong(1634)"
   ]
  },
  {
   "cell_type": "code",
   "execution_count": null,
   "id": "34d00fcd",
   "metadata": {},
   "outputs": [],
   "source": []
  },
  {
   "cell_type": "markdown",
   "id": "5e7e0aa3",
   "metadata": {},
   "source": [
    "#### Prime Number"
   ]
  },
  {
   "cell_type": "code",
   "execution_count": 1,
   "id": "af5786b1",
   "metadata": {},
   "outputs": [],
   "source": [
    "def prime(n):\n",
    "    if n <= 1:\n",
    "        return False\n",
    "    \n",
    "    for i in range(2, n):\n",
    "        if n % i == 0:\n",
    "            return False\n",
    "        \n",
    "    return True"
   ]
  },
  {
   "cell_type": "code",
   "execution_count": 2,
   "id": "922c66b7",
   "metadata": {},
   "outputs": [
    {
     "data": {
      "text/plain": [
       "True"
      ]
     },
     "execution_count": 2,
     "metadata": {},
     "output_type": "execute_result"
    }
   ],
   "source": [
    "prime(29)"
   ]
  },
  {
   "cell_type": "code",
   "execution_count": 3,
   "id": "35b83f9e",
   "metadata": {},
   "outputs": [
    {
     "data": {
      "text/plain": [
       "True"
      ]
     },
     "execution_count": 3,
     "metadata": {},
     "output_type": "execute_result"
    }
   ],
   "source": [
    "prime(31)"
   ]
  },
  {
   "cell_type": "code",
   "execution_count": 4,
   "id": "e90e41ff",
   "metadata": {},
   "outputs": [
    {
     "data": {
      "text/plain": [
       "False"
      ]
     },
     "execution_count": 4,
     "metadata": {},
     "output_type": "execute_result"
    }
   ],
   "source": [
    "prime(22)"
   ]
  },
  {
   "cell_type": "code",
   "execution_count": 5,
   "id": "82417655",
   "metadata": {},
   "outputs": [
    {
     "data": {
      "text/plain": [
       "False"
      ]
     },
     "execution_count": 5,
     "metadata": {},
     "output_type": "execute_result"
    }
   ],
   "source": [
    "prime(100)"
   ]
  },
  {
   "cell_type": "code",
   "execution_count": null,
   "id": "ce8f690b",
   "metadata": {},
   "outputs": [],
   "source": []
  },
  {
   "cell_type": "code",
   "execution_count": null,
   "id": "6ba14000",
   "metadata": {},
   "outputs": [],
   "source": []
  },
  {
   "cell_type": "code",
   "execution_count": null,
   "id": "d3c08fbb",
   "metadata": {},
   "outputs": [],
   "source": []
  }
 ],
 "metadata": {
  "kernelspec": {
   "display_name": "Python 3 (ipykernel)",
   "language": "python",
   "name": "python3"
  },
  "language_info": {
   "codemirror_mode": {
    "name": "ipython",
    "version": 3
   },
   "file_extension": ".py",
   "mimetype": "text/x-python",
   "name": "python",
   "nbconvert_exporter": "python",
   "pygments_lexer": "ipython3",
   "version": "3.10.9"
  }
 },
 "nbformat": 4,
 "nbformat_minor": 5
}
